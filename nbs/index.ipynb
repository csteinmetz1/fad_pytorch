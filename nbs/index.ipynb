{
 "cells": [
  {
   "cell_type": "code",
   "execution_count": null,
   "metadata": {},
   "outputs": [],
   "source": [
    "#| hide\n",
    "from fad_pytorch.core import *"
   ]
  },
  {
   "cell_type": "markdown",
   "metadata": {},
   "source": [
    "# fad_pytorch\n",
    "\n",
    "> Frechet Audio Distance evaluation in PyTorch"
   ]
  },
  {
   "cell_type": "markdown",
   "metadata": {},
   "source": [
    "."
   ]
  },
  {
   "cell_type": "markdown",
   "metadata": {},
   "source": [
    "## Install"
   ]
  },
  {
   "cell_type": "markdown",
   "metadata": {},
   "source": [
    "Work in progress. If you're just finding this repo on GitHub, it may not be ready yet. \n",
    "```sh\n",
    "pip install fad_pytorch\n",
    "```"
   ]
  },
  {
   "cell_type": "markdown",
   "metadata": {},
   "source": [
    "## About"
   ]
  },
  {
   "cell_type": "markdown",
   "metadata": {},
   "source": [
    "Features:\n",
    "* runs in parallel on multiple GPUs\n",
    "* favors 48kHz sample rates\n",
    "* can use CLAP embeddings\n",
    "* favors ops in PyTorch instead of numpy \n",
    "* allows dataset access via WebDataSet (s3)\n",
    "\n",
    "This is designed to be run as 3 command-line scripts in succession:\n",
    "\n",
    "1. `fad_gen.py`: produces directories of real & fake audio\n",
    "2. `fad_embed.py`: produces directories of *embeddings* of real & fake audio\n",
    "3. `fad_score.py`: reads the embeddings & generates FAD score, for real (\"$r$\") and fake (\"$f$\"): \n",
    "\n",
    "$$ FAD = || \\mu_r - \\mu_f ||^2 + tr\\left(\\Sigma_r + \\Sigma_f - 2 \\sqrt{\\Sigma_r \\Sigma_f}\\right)$$"
   ]
  },
  {
   "cell_type": "markdown",
   "metadata": {},
   "source": [
    "## Related Repos\n",
    "There are [several] others, but this one is mine.  These repos didn't have all the features I wanted, but I used them for inspiration:\n",
    "* https://github.com/gudgud96/frechet-audio-distance\n",
    "* https://github.com/google-research/google-research/tree/master/frechet_audio_distance\n",
    "* https://github.com/AndreevP/speech_distances"
   ]
  },
  {
   "cell_type": "markdown",
   "metadata": {},
   "source": [
    "Bulleted list:\n",
    "* one\n",
    "* two \n",
    "* three"
   ]
  },
  {
   "cell_type": "code",
   "execution_count": null,
   "metadata": {},
   "outputs": [],
   "source": []
  }
 ],
 "metadata": {
  "kernelspec": {
   "display_name": "aa",
   "language": "python",
   "name": "aa"
  }
 },
 "nbformat": 4,
 "nbformat_minor": 4
}
