{
 "cells": [
  {
   "cell_type": "code",
   "execution_count": null,
   "metadata": {},
   "outputs": [],
   "source": [
    "#| hide\n",
    "from fad_pytorch.core import *"
   ]
  },
  {
   "cell_type": "markdown",
   "metadata": {},
   "source": [
    "# fad_pytorch\n",
    "\n",
    "> Frechet Audio Distance evaluation in PyTorch"
   ]
  },
  {
   "cell_type": "markdown",
   "metadata": {},
   "source": [
    "[Original FAD paper (PDF)](https://arxiv.org/pdf/1812.08466.pdf)"
   ]
  },
  {
   "cell_type": "markdown",
   "metadata": {},
   "source": [
    "## Install"
   ]
  },
  {
   "cell_type": "markdown",
   "metadata": {},
   "source": [
    "```sh\n",
    "pip install fad_pytorch\n",
    "```"
   ]
  },
  {
   "cell_type": "markdown",
   "metadata": {},
   "source": [
    "## About"
   ]
  },
  {
   "cell_type": "markdown",
   "metadata": {},
   "source": [
    "(Intended) Features:\n",
    "\n",
    "- runs in parallel on multiple GPUs\n",
    "- supports 48kHz sample rates and stereo when possible\n",
    "- supports CLAP embeddings, in addition to VGGish and PANN\n",
    "- favors ops in PyTorch instead of numpy \n",
    "- allows dataset access via WebDataset (over s3://)\n",
    "- runs on CPU, CUDA, or MPS \n",
    "\n",
    "This is designed to be run as 3 command-line scripts in succession. The latter 2 (`fad_embed` and `fad_score`) are probably what most people will want:\n",
    "\n",
    "1. `fad_gen`: produces directories of real & fake audio\n",
    "2. `fad_embed <real_audio_dir> <fake_audio_dir>`: produces directories of *embeddings* of real & fake audio\n",
    "3. `fad_score <real_emb_dir> <fake_emb_dir>`: reads the embeddings & generates FAD score, for real (\"$r$\") and fake (\"$f$\"): \n",
    "\n",
    "$$ FAD = || \\mu_r - \\mu_f ||^2 + tr\\left(\\Sigma_r + \\Sigma_f - 2 \\sqrt{\\Sigma_r \\Sigma_f}\\right)$$"
   ]
  },
  {
   "cell_type": "markdown",
   "metadata": {},
   "source": [
    "## Related Repos\n",
    "There are [several] others, but this one is mine.  These repos didn't have all the features I wanted, but I used them for inspiration:\n",
    "\n",
    "- https://github.com/gudgud96/frechet-audio-distance\n",
    "- https://github.com/google-research/google-research/tree/master/frechet_audio_distance: Goes with [Original FAD paper](https://arxiv.org/pdf/1812.08466.pdf)\n",
    "- https://github.com/AndreevP/speech_distances"
   ]
  },
  {
   "cell_type": "code",
   "execution_count": null,
   "metadata": {},
   "outputs": [],
   "source": []
  }
 ],
 "metadata": {
  "kernelspec": {
   "display_name": "aa",
   "language": "python",
   "name": "aa"
  },
  "language_info": {
   "codemirror_mode": {
    "name": "ipython",
    "version": 3
   },
   "file_extension": ".py",
   "mimetype": "text/x-python",
   "name": "python",
   "nbconvert_exporter": "python",
   "pygments_lexer": "ipython3",
   "version": "3.10.6"
  }
 },
 "nbformat": 4,
 "nbformat_minor": 4
}
