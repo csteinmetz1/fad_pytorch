{
 "cells": [
  {
   "cell_type": "code",
   "execution_count": null,
   "metadata": {},
   "outputs": [],
   "source": [
    "#| hide\n",
    "%load_ext autoreload\n",
    "%autoreload 2"
   ]
  },
  {
   "cell_type": "markdown",
   "metadata": {},
   "source": [
    "# fad_embed\n",
    "\n",
    "> Command-line script to generate embeddings from audio files"
   ]
  },
  {
   "cell_type": "code",
   "execution_count": null,
   "metadata": {},
   "outputs": [],
   "source": [
    "#| default_exp fad_embed"
   ]
  },
  {
   "cell_type": "code",
   "execution_count": null,
   "metadata": {},
   "outputs": [],
   "source": [
    "#| hide\n",
    "from nbdev.showdoc import *"
   ]
  },
  {
   "cell_type": "markdown",
   "metadata": {},
   "source": [
    "## Sample calling sequences\n",
    "\n",
    "Single processor, single GPU: \n",
    "\n",
    "```\n",
    "fad_embed clap real/ fake\n",
    "```\n",
    "\n",
    "\n",
    "Multiple GPUs, multiple processors (single node):  (this example syntax is to run from within main fad_pytorch package directory)\n",
    "```\n",
    "accelerate launch fad_pytorch/fad_embed.py clap real/ fake/\n",
    "```\n",
    "\n",
    "General invocation: \n",
    "\n",
    "```bash\n",
    "$ fad_embed -h\n",
    "usage: fad_embed [-h] [--batch_size BATCH_SIZE] [--sample_size SAMPLE_SIZE] [--chunk_size CHUNK_SIZE] [--hop_size HOP_SIZE] [--max_hops MAX_HOPS] [--sr SR] [--verbose]\n",
    "                 [--debug]\n",
    "                 embed_model real_path fake_path\n",
    "\n",
    "positional arguments:\n",
    "  embed_model           choice of embedding model(s): clap | vggish | pann | openl3 | all\n",
    "  real_path             Path of files of real audio\n",
    "  fake_path             Path of files of fake audio\n",
    "\n",
    "options:\n",
    "  -h, --help            show this help message and exit\n",
    "  --batch_size BATCH_SIZE\n",
    "                        MAXIMUM Batch size for computing embeddings (may go smaller) (default: 64)\n",
    "  --sample_size SAMPLE_SIZE\n",
    "                        Number of audio samples to read from each audio file (default: 262144)\n",
    "  --chunk_size CHUNK_SIZE\n",
    "                        Length of chunks (in audio samples) to embed (default: 24000)\n",
    "  --hop_size HOP_SIZE   (approximate) time difference (in seconds) between each chunk (default: 0.1)\n",
    "  --max_hops MAX_HOPS   Don't exceed this many hops/chunks/embeddings per audio file. <= 0 disables this. (default: -1)\n",
    "  --sr SR               sample rate (will resample inputs at this rate) (default: 48000)\n",
    "  --verbose             Show notices of resampling when reading files (default: False)\n",
    "  --debug               Extra messages for debugging this program (default: False)\n",
    "\n",
    "```"
   ]
  },
  {
   "cell_type": "code",
   "execution_count": null,
   "metadata": {},
   "outputs": [
    {
     "data": {
      "application/vnd.jupyter.widget-view+json": {
       "model_id": "cccf171fa6f145d88f0f73c00fe2ff13",
       "version_major": 2,
       "version_minor": 0
      },
      "text/plain": [
       "Downloading (…)solve/main/vocab.txt:   0%|          | 0.00/232k [00:00<?, ?B/s]"
      ]
     },
     "metadata": {},
     "output_type": "display_data"
    },
    {
     "data": {
      "application/vnd.jupyter.widget-view+json": {
       "model_id": "9e15c3051ccf47aba035604947ffe36d",
       "version_major": 2,
       "version_minor": 0
      },
      "text/plain": [
       "Downloading (…)okenizer_config.json:   0%|          | 0.00/28.0 [00:00<?, ?B/s]"
      ]
     },
     "metadata": {},
     "output_type": "display_data"
    },
    {
     "data": {
      "application/vnd.jupyter.widget-view+json": {
       "model_id": "e589ae68b2fe433abd92e1886c797c93",
       "version_major": 2,
       "version_minor": 0
      },
      "text/plain": [
       "Downloading (…)lve/main/config.json:   0%|          | 0.00/570 [00:00<?, ?B/s]"
      ]
     },
     "metadata": {},
     "output_type": "display_data"
    },
    {
     "data": {
      "application/vnd.jupyter.widget-view+json": {
       "model_id": "4423a3ca12744be49b3874a33c0fce35",
       "version_major": 2,
       "version_minor": 0
      },
      "text/plain": [
       "Downloading (…)olve/main/vocab.json:   0%|          | 0.00/899k [00:00<?, ?B/s]"
      ]
     },
     "metadata": {},
     "output_type": "display_data"
    },
    {
     "data": {
      "application/vnd.jupyter.widget-view+json": {
       "model_id": "c33be665f57249bea01c8d7f3d492579",
       "version_major": 2,
       "version_minor": 0
      },
      "text/plain": [
       "Downloading (…)olve/main/merges.txt:   0%|          | 0.00/456k [00:00<?, ?B/s]"
      ]
     },
     "metadata": {},
     "output_type": "display_data"
    },
    {
     "data": {
      "application/vnd.jupyter.widget-view+json": {
       "model_id": "6bf1f47450584a8c912bf174e18d1b9c",
       "version_major": 2,
       "version_minor": 0
      },
      "text/plain": [
       "Downloading (…)lve/main/config.json:   0%|          | 0.00/481 [00:00<?, ?B/s]"
      ]
     },
     "metadata": {},
     "output_type": "display_data"
    },
    {
     "data": {
      "application/vnd.jupyter.widget-view+json": {
       "model_id": "f1400e162e4c4b42a0f768214dba67af",
       "version_major": 2,
       "version_minor": 0
      },
      "text/plain": [
       "Downloading (…)olve/main/vocab.json:   0%|          | 0.00/899k [00:00<?, ?B/s]"
      ]
     },
     "metadata": {},
     "output_type": "display_data"
    },
    {
     "data": {
      "application/vnd.jupyter.widget-view+json": {
       "model_id": "3ba46a94d71b429eac59936d7035008a",
       "version_major": 2,
       "version_minor": 0
      },
      "text/plain": [
       "Downloading (…)olve/main/merges.txt:   0%|          | 0.00/456k [00:00<?, ?B/s]"
      ]
     },
     "metadata": {},
     "output_type": "display_data"
    },
    {
     "data": {
      "application/vnd.jupyter.widget-view+json": {
       "model_id": "7f9d0ad280f74baf8414a59f0319db6b",
       "version_major": 2,
       "version_minor": 0
      },
      "text/plain": [
       "Downloading (…)lve/main/config.json:   0%|          | 0.00/1.72k [00:00<?, ?B/s]"
      ]
     },
     "metadata": {},
     "output_type": "display_data"
    }
   ],
   "source": [
    "#| export\n",
    "import os\n",
    "import numpy as np\n",
    "import argparse\n",
    "import laion_clap \n",
    "from laion_clap.training.data import get_audio_features\n",
    "from accelerate import Accelerator\n",
    "import warnings\n",
    "import torch\n",
    "\n",
    "from aeiou.core import get_device, load_audio, get_audio_filenames, makedir\n",
    "from aeiou.datasets import AudioDataset\n",
    "from aeiou.hpc import HostPrinter\n",
    "from torch.utils.data import DataLoader\n",
    "from pathlib import Path\n",
    "import requests \n",
    "from tqdm import tqdm\n",
    "import site \n",
    "from einops import rearrange\n",
    "\n",
    "try:\n",
    "    from fad_pytorch.pann import Cnn14_16k\n",
    "except: \n",
    "    from pann import Cnn14_16k\n",
    "    \n",
    "# there are TWO 'torchopenl3' repos!  they operate differently.\n",
    "OPENL3_VERSION = \"turian\" #  #  \"hugo\" | \"turian\". set to which version you've installed\n",
    "import torchopenl3"
   ]
  },
  {
   "cell_type": "markdown",
   "metadata": {},
   "source": [
    "First a couple utilities for downloading checkpoints:"
   ]
  },
  {
   "cell_type": "code",
   "execution_count": null,
   "metadata": {},
   "outputs": [],
   "source": [
    "#|export \n",
    "\n",
    "def download_file(url, local_filename):\n",
    "    \"Includes a progress bar.  from https://stackoverflow.com/a/37573701/4259243\"\n",
    "    response = requests.get(url, stream=True)\n",
    "    total_size_in_bytes= int(response.headers.get('content-length', 0))\n",
    "    block_size = 1024 #1 Kilobye\n",
    "    progress_bar = tqdm(total=total_size_in_bytes, unit='iB', unit_scale=True)\n",
    "    with open(local_filename, 'wb') as file:\n",
    "        for data in response.iter_content(block_size):\n",
    "            progress_bar.update(len(data))\n",
    "            file.write(data)\n",
    "    progress_bar.close()\n",
    "    if total_size_in_bytes != 0 and progress_bar.n != total_size_in_bytes:\n",
    "        print(\"ERROR, something went wrong\")\n",
    "    return local_filename\n",
    "\n",
    "def download_if_needed(url, local_filename, accelerator=None):\n",
    "    \"wrapper for download file\"\n",
    "    if accelerator is None or accelerator.is_local_main_process:  # Only do this on one process instead of all\n",
    "        if not os.path.isfile(local_filename):\n",
    "            print(f\"File {local_filename} not found, downloading from {url}\")\n",
    "            download_file( url, local_filename)\n",
    "    if accelerator is not None: accelerator.wait_for_everyone()\n",
    "    return local_filename\n",
    "\n",
    "def get_ckpt(ckpt_file='music_speech_audioset_epoch_15_esc_89.98.pt',\n",
    "             ckpt_base_url='https://huggingface.co/lukewys/laion_clap/blob/main',\n",
    "             ckpt_dl_path=os.path.expanduser(\"~/checkpoints\"),\n",
    "             accelerator=None,\n",
    "            ):\n",
    "    ckpt_path = f\"{ckpt_dl_path}/{ckpt_file}\"\n",
    "    download_if_needed( f\"{ckpt_base_url}/{ckpt_file}\" , ckpt_path)\n",
    "    return ckpt_path"
   ]
  },
  {
   "cell_type": "code",
   "execution_count": null,
   "metadata": {},
   "outputs": [],
   "source": [
    "#|export \n",
    "def setup_embedder(\n",
    "        model_choice='clap', # 'clap' | 'vggish' | 'pann'\n",
    "        device='cuda',\n",
    "        ckpt_file='music_speech_audioset_epoch_15_esc_89.98.pt',  # NOTE: 'CLAP_CKPT' env var overrides ckpt_file kwarg\n",
    "        ckpt_base_url='https://huggingface.co/lukewys/laion_clap/resolve/main',\n",
    "        # https://huggingface.co/lukewys/laion_clap/resolve/main/music_speech_audioset_epoch_15_esc_89.98.pt\n",
    "        accelerator=None,\n",
    "        ckpt_dl_path=os.path.expanduser(\"~/checkpoints\"),\n",
    "    ):\n",
    "    \"load the embedder model\"\n",
    "    embedder = None\n",
    "    \n",
    "    sample_rate = 16000\n",
    "    if model_choice == 'clap':\n",
    "        print(f\"Starting basic CLAP setup\")\n",
    "        clap_fusion, clap_amodel = True, \"HTSAT-base\"\n",
    "        #doesn't work:  warnings.filterwarnings('ignore')  # temporarily disable CLAP warnings as they are super annoying. \n",
    "        clap_module = laion_clap.CLAP_Module(enable_fusion=clap_fusion, device=device, amodel=clap_amodel).requires_grad_(False).eval()\n",
    "        clap_ckpt_path = os.getenv('CLAP_CKPT')  # NOTE: CLAP_CKPT env var overrides ckpt_file kwarg\n",
    "        if clap_ckpt_path is not None:\n",
    "            #print(f\"Loading CLAP from {clap_ckpt_path}\")\n",
    "            clap_module.load_ckpt(ckpt=clap_ckpt_path, verbose=False)\n",
    "        else:\n",
    "            print(f\"No CLAP checkpoint specified, using {ckpt_file}\") \n",
    "            clap_module = laion_clap.CLAP_Module(enable_fusion=False, amodel= 'HTSAT-base')\n",
    "            ckpt_path = get_ckpt(ckpt_file=ckpt_file, ckpt_base_url=ckpt_base_url, ckpt_dl_path=ckpt_dl_path, accelerator=accelerator)\n",
    "            clap_module.load_ckpt(ckpt_path, verbose=False)\n",
    "            #clap_module.load_ckpt(model_id=1, verbose=False)\n",
    "        #warnings.filterwarnings(\"default\")   # turn warnings back on. \n",
    "        embedder = clap_module # synonyms \n",
    "        sample_rate = 48000\n",
    "        \n",
    "    # next two model loading codes from gudgud96's repo: https://github.com/gudgud96/frechet-audio-distance, LICENSE below\n",
    "    elif model_choice == \"vggish\":   # https://arxiv.org/abs/1609.09430\n",
    "        embedder = torch.hub.load('harritaylor/torchvggish', 'vggish')\n",
    "        use_pca=False\n",
    "        use_activation=False\n",
    "        if not use_pca:  embedder.postprocess = False\n",
    "        if not use_activation: embedder.embeddings = torch.nn.Sequential(*list(embedder.embeddings.children())[:-1])\n",
    "        sample_rate = 16000\n",
    "\n",
    "    elif model_choice == \"pann\": # https://arxiv.org/abs/1912.10211\n",
    "        sample_rate = 16000\n",
    "        model_path = os.path.join(torch.hub.get_dir(), \"Cnn14_16k_mAP%3D0.438.pth\")\n",
    "        if accelerator is None or accelerator.is_local_main_process:\n",
    "            if not(os.path.exists(model_path)):\n",
    "                torch.hub.download_url_to_file('https://zenodo.org/record/3987831/files/Cnn14_16k_mAP%3D0.438.pth', model_path)\n",
    "        if accelerator is not None: accelerator.wait_for_everyone()\n",
    "        embedder = Cnn14_16k(sample_rate=sample_rate, window_size=512, hop_size=160, mel_bins=64, fmin=50, fmax=8000, classes_num=527)\n",
    "        checkpoint = torch.load(model_path, map_location=device)\n",
    "        embedder.load_state_dict(checkpoint['model'])\n",
    "            \n",
    "    elif model_choice == \"openl3\" and OPENL3_VERSION == \"hugo\":  # hugo flores garcia's torchopenl3, https://github.com/hugofloresgarcia/torchopenl3\n",
    "        # openl3 repo doesn't install its weights if you do \"pip install git+...\", so here we download them separately\n",
    "        weights_dir = f\"{site.getsitepackages()[0]}/torchopenl3/assets/weights\"\n",
    "        makedir(weights_dir)\n",
    "        download_if_needed(\"https://github.com/hugofloresgarcia/torchopenl3/raw/main/torchopenl3/assets/weights/env-mel128\", \n",
    "                           f\"{weights_dir}/music-mel128\", accelerator=accelerator)\n",
    "        embedder = torchopenl3.OpenL3Embedding(input_repr='mel128', embedding_size=512, content_type='music')\n",
    "        sample_rate = 48000\n",
    "        \n",
    "    elif model_choice == \"openl3\" and OPENL3_VERSION == \"turian\":  # turian et al's torchopenl3, https://github.com/torchopenl3/torchopenl3\n",
    "        sample_rate = 48000\n",
    "        embedder = torchopenl3.models.load_audio_embedding_model(input_repr=\"mel256\", content_type=\"music\", embedding_size=512)\n",
    "        pass # turian et al's does all its setup when it's invoked \n",
    "    else:\n",
    "        raise ValueError(\"Sorry, other models not supported yet\")\n",
    "        \n",
    "    if hasattr(embedder,'eval'): embedder.eval()   \n",
    "    return embedder, sample_rate\n",
    "\n",
    "\n",
    "GUDGUD_LICENSE = \"\"\"For VGGish implementation:\n",
    "MIT License\n",
    "\n",
    "Copyright (c) 2022 Hao Hao Tan\n",
    "\n",
    "Permission is hereby granted, free of charge, to any person obtaining a copy\n",
    "of this software and associated documentation files (the \"Software\"), to deal\n",
    "in the Software without restriction, including without limitation the rights\n",
    "to use, copy, modify, merge, publish, distribute, sublicense, and/or sell\n",
    "copies of the Software, and to permit persons to whom the Software is\n",
    "furnished to do so, subject to the following conditions:\n",
    "\n",
    "The above copyright notice and this permission notice shall be included in all\n",
    "copies or substantial portions of the Software.\n",
    "\n",
    "THE SOFTWARE IS PROVIDED \"AS IS\", WITHOUT WARRANTY OF ANY KIND, EXPRESS OR\n",
    "IMPLIED, INCLUDING BUT NOT LIMITED TO THE WARRANTIES OF MERCHANTABILITY,\n",
    "FITNESS FOR A PARTICULAR PURPOSE AND NONINFRINGEMENT. IN NO EVENT SHALL THE\n",
    "AUTHORS OR COPYRIGHT HOLDERS BE LIABLE FOR ANY CLAIM, DAMAGES OR OTHER\n",
    "LIABILITY, WHETHER IN AN ACTION OF CONTRACT, TORT OR OTHERWISE, ARISING FROM,\n",
    "OUT OF OR IN CONNECTION WITH THE SOFTWARE OR THE USE OR OTHER DEALINGS IN THE\n",
    "SOFTWARE.\n",
    "\"\"\""
   ]
  },
  {
   "cell_type": "code",
   "execution_count": null,
   "metadata": {},
   "outputs": [
    {
     "name": "stderr",
     "output_type": "stream",
     "text": [
      "/fsx/shawley/envs_sm/aa/lib/python3.10/site-packages/librosa/util/decorators.py:88: UserWarning: Empty filters detected in mel frequency basis. Some channels will produce empty responses. Try increasing your sampling rate (and fmax) or reducing n_mels.\n",
      "  return f(*args, **kwargs)\n",
      "Downloading: \"https://github.com/torchopenl3/torchopenl3-models/raw/master/torchopenl3_mel256_music_512.pth.tar\" to /home/shawley/.cache/torch/hub/checkpoints/torchopenl3_mel256_music_512.pth.tar\n",
      "100%|██████████| 34.9M/34.9M [00:00<00:00, 249MB/s]\n"
     ]
    }
   ],
   "source": [
    "#| eval: false\n",
    "embedder, sample_rate = setup_embedder('openl3','cuda') "
   ]
  },
  {
   "cell_type": "code",
   "execution_count": null,
   "metadata": {},
   "outputs": [],
   "source": [
    "#| export\n",
    "def embed(args): \n",
    "    model_choice, real_path, fake_path, chunk_size, sr, max_batch_size, debug = args.embed_model, args.real_path, args.fake_path, args.chunk_size, args.sr, args.batch_size, args.debug\n",
    "    \n",
    "    sample_rate = sr\n",
    "    local_rank = int(os.environ.get(\"LOCAL_RANK\", 0))\n",
    "    world_size = int(os.environ.get(\"WORLD_SIZE\", 1))\n",
    "    ddps = f\"[{local_rank}/{world_size}]\"  # string for distributed computing info, e.g. \"[1/8]\" \n",
    "\n",
    "    accelerator = Accelerator()\n",
    "    hprint = HostPrinter(accelerator)  # hprint only prints on head node\n",
    "    device = accelerator.device    # get_device()\n",
    "    hprint(f\"{ddps} args = {args}\")\n",
    "    hprint(f'{ddps} Using device: {device}')\n",
    "    \n",
    " \n",
    "    \"\"\" # let accelerate split up the files among processsors\n",
    "    # get the list(s) of audio files\n",
    "    real_filenames = get_audio_filenames(real_path)\n",
    "    #hprint(f\"{ddps} real_path, real_filenames = {real_path}, {real_filenames}\")\n",
    "    fake_filenames = get_audio_filenames(fake_path)\n",
    "    minlen = len(real_filenames)\n",
    "    if len(real_filenames) != len(fake_filenames):\n",
    "        hprint(f\"{ddps} WARNING: len(real_filenames)=={len(real_filenames)} != len(fake_filenames)=={len(fake_filenames)}. Truncating to shorter list\") \n",
    "        minlen = min( len(real_filenames) , len(fake_filenames) )\n",
    "    \n",
    "    # subdivide file lists by process number\n",
    "    num_per_proc = minlen // world_size\n",
    "    start = local_rank * num_per_proc\n",
    "    end =  minlen if local_rank == world_size-1 else (local_rank+1) * num_per_proc\n",
    "    #print(f\"{ddps} start, end = \",start,end) \n",
    "    real_filenames, fake_filenames = real_filenames[start:end], fake_filenames[start:end]\n",
    "    \"\"\"\n",
    "\n",
    "    model_choices = [model_choice] if model_choice != 'all' else ['clap','vggish','pann','openl3']\n",
    "    \n",
    "    for model_choice in model_choices: # loop over multiple embedders\n",
    "        hprint(f\"\\n ** Model_choice = {model_choice}\")\n",
    "        # setup embedder and dataloader\n",
    "        embedder, emb_sample_rate = setup_embedder(model_choice, device=device, accelerator=accelerator)\n",
    "        if sr != emb_sample_rate:\n",
    "            hprint(f\"\\n*******\\nWARNING: sr={sr} != {model_choice}'s emb_sample_rate={emb_sample_rate}. Will resample audio to the latter\\n*******\\n\")\n",
    "            sr = emb_sample_rate\n",
    "        hprint(f\"{ddps} Embedder '{model_choice}' ready to go!\")\n",
    "\n",
    "        # we read audio in length args.sample_size, cut it into chunks of args,chunk_size to embed, and skip args.hop_size between chunks\n",
    "        # pads with zeros btw\n",
    "        real_dataset = AudioDataset(real_path,  sample_rate=emb_sample_rate, sample_size=args.sample_size, return_dict=True, verbose=args.verbose)\n",
    "        fake_dataset = AudioDataset(fake_path,  sample_rate=emb_sample_rate, sample_size=args.sample_size, return_dict=True, verbose=args.verbose)\n",
    "        batch_size = min( len(real_dataset) // world_size , max_batch_size ) \n",
    "        hprint(f\"\\nGiven max_batch_size = {max_batch_size}, len(real_dataset) = {len(real_dataset)}, and world_size = {world_size}, we'll use batch_size = {batch_size}\")\n",
    "        real_dl = DataLoader(real_dataset, batch_size=batch_size, shuffle=False)\n",
    "        fake_dl = DataLoader(fake_dataset, batch_size=batch_size, shuffle=False)\n",
    "\n",
    "        real_dl, fake_dl, embedder = accelerator.prepare( real_dl, fake_dl, embedder )  # prepare handles distributing things among GPUs\n",
    "\n",
    "        # note that we don't actually care if real & fake files are pulled in the same order; we'll only be comparing the *distributions* of the data.\n",
    "        with torch.no_grad():\n",
    "            for dl, name in zip([real_dl, fake_dl],['real','fake']):  \n",
    "                for i, data_dict in enumerate(dl):  # load audio files\n",
    "                    audio_sample_batch, filename_batch = data_dict['inputs'], data_dict['filename']\n",
    "                    newdir_already = False\n",
    "                    if not newdir_already: \n",
    "                        p = Path( filename_batch[0] )\n",
    "                        dir_already = True\n",
    "                        newdir = f\"{p.parents[0]}_emb_{model_choice}\"\n",
    "                        hprint(f\"creating new directory = {newdir}\")\n",
    "                        makedir(newdir) \n",
    "                        newdir_already = True\n",
    "                    # cut audio samples into chunks spaced out by hops, and loop over them\n",
    "                    hop_samples = int(args.hop_size * args.sample_size)\n",
    "                    hop_starts = np.arange(0, args.sample_size, hop_samples)\n",
    "                    if args.max_hops <= 0:  \n",
    "                        hop_starts = hop_starts[:min(len(hop_starts), args.max_hops)]\n",
    "                    if args.sample_size - hop_starts[-1] < args.hop_size: # judgement call: let's not zero-pad on the very end, rather just don't do the last hop\n",
    "                        hop_starts = hop_starts[:-1]\n",
    "                    for h_ind, hop_loc in enumerate(hop_starts):               # proceed through audio file batch via chunks, skipping by hop_samples each time\n",
    "                        chunk = audio_sample_batch[:,:,hop_loc:hop_loc+hop_samples]\n",
    "                        audio = chunk \n",
    "                        \n",
    "                        #print(f\"{ddps} i = {i}/{len(real_dataset)}, filename = {filename_batch[0]}\")\n",
    "                        audio = audio.to(device)\n",
    "\n",
    "\n",
    "                        if model_choice == 'clap': \n",
    "                            while len(audio.shape) < 3: \n",
    "                                audio = audio.unsqueeze(0) # add batch and/or channel dims \n",
    "                            embeddings = accelerator.unwrap_model(embedder).get_audio_embedding_from_data(audio.mean(dim=1).to(device), use_tensor=True).to(audio.dtype)\n",
    "\n",
    "                        elif model_choice == \"vggish\":\n",
    "                            audio = torch.mean(audio, dim=1)   # vggish requries we convert to mono\n",
    "                            embeddings = []                    # ...whoa, vggish can't even handle batches?  we have to pass 'em through singly?\n",
    "                            for bi, waveform in enumerate(audio): \n",
    "                                e =  accelerator.unwrap_model(embedder).forward(waveform.cpu().numpy(), emb_sample_rate)\n",
    "                                embeddings.append(e) \n",
    "                            embeddings = torch.cat(embeddings, dim=0)\n",
    "\n",
    "                        elif model_choice == \"pann\": \n",
    "                            audio = torch.mean(audio, dim=1)  # mono only.  todo:  keepdim=True ?\n",
    "                            out = embedder.forward(audio, None)\n",
    "                            embeddings = out['embedding'].data\n",
    "\n",
    "                        elif model_choice == \"openl3\" and OPENL3_VERSION == \"hugo\":\n",
    "                            ##audio = torch.mean(audio, dim=1)  # mono only.\n",
    "                            embeddings = []\n",
    "                            for bi, waveform in enumerate( audio.cpu().numpy() ): # no batch processing, expects numpy \n",
    "                                e = torchopenl3.embed(model=embedder, \n",
    "                                    audio=waveform, # shape sould be (channels, samples)\n",
    "                                    sample_rate=emb_sample_rate, # sample rate of input file\n",
    "                                    hop_size=1,  device=device)\n",
    "                                if debug: hprint(f\"bi = {bi}, waveform.shape = {waveform.shape},  e.shape = {e.shape}\") \n",
    "                                embeddings.append(torch.tensor(e))\n",
    "                            embeddings = torch.cat(embeddings, dim=0)\n",
    "\n",
    "                        elif model_choice == \"openl3\" and OPENL3_VERSION == \"turian\":\n",
    "                            # Note: turian's can/will do multiple time-stamped embeddings if the sample_size is long enough. but our chunks/hops precludes this\n",
    "\n",
    "                            #not needed, turns out: audio = renot needed, turns out: arrange(audio, 'b c s -> b s c')       # this torchopen3 expects channels-first ordering\n",
    "                            embeddings, timestamps = torchopenl3.get_audio_embedding(audio, emb_sample_rate, model=embedder)\n",
    "                            embeddings = torch.squeeze(embeddings, 1)        # get rid of any spurious dimensions of 1 in middle position \n",
    "\n",
    "                        else:\n",
    "                            raise ValueError(f\"Unknown model_choice = {model_choice}\")\n",
    "\n",
    "                        hprint(f\"embeddings.shape = {embeddings.shape}\")\n",
    "                        # TODO: for now we'll just dump each batch on each proc to its own file; this could be improved\n",
    "                        outfilename = f\"{newdir}/emb_p{local_rank}_b{i}_h{h_ind}.pt\"\n",
    "                        hprint(f\"{ddps} Saving embeddings to {outfilename}\")\n",
    "                        torch.save(embeddings.cpu().detach(), outfilename)\n",
    "                    \n",
    "        del embedder\n",
    "        torch.cuda.empty_cache()\n",
    "        # end loop over various embedders\n",
    "    return        "
   ]
  },
  {
   "cell_type": "code",
   "execution_count": null,
   "metadata": {},
   "outputs": [],
   "source": [
    "#| export\n",
    "def main(): \n",
    "    parser = argparse.ArgumentParser(formatter_class=argparse.ArgumentDefaultsHelpFormatter)\n",
    "    parser.add_argument('embed_model', help='choice of embedding model(s): clap | vggish | pann | openl3 | all ', default='clap')\n",
    "    parser.add_argument('real_path', help='Path of files of real audio', default='real/')\n",
    "    parser.add_argument('fake_path', help='Path of files of fake audio', default='fake/')\n",
    "    parser.add_argument('--batch_size', type=int, default=64, help='MAXIMUM Batch size for computing embeddings (may go smaller)')\n",
    "    parser.add_argument('--sample_size', type=int, default=2**18, help='Number of audio samples to read from each audio file')\n",
    "    parser.add_argument('--chunk_size', type=int, default=24000, help='Length of chunks (in audio samples) to embed')\n",
    "    parser.add_argument('--hop_size', type=float, default=0.100, help='(approximate) time difference (in seconds) between each chunk')\n",
    "    parser.add_argument('--max_hops', type=int, default=-1, help=\"Don't exceed this many hops/chunks/embeddings per audio file. <= 0 disables this.\")\n",
    "    parser.add_argument('--sr', type=int, default=48000, help='sample rate (will resample inputs at this rate)')\n",
    "    parser.add_argument('--verbose', action='store_true',  help='Show notices of resampling when reading files')\n",
    "    parser.add_argument('--debug', action='store_true',  help='Extra messages for debugging this program')\n",
    "\n",
    "    args = parser.parse_args()\n",
    "    embed(args)"
   ]
  },
  {
   "cell_type": "code",
   "execution_count": null,
   "metadata": {},
   "outputs": [],
   "source": [
    "#| export\n",
    "if __name__ == '__main__' and \"get_ipython\" not in dir():\n",
    "    main()"
   ]
  },
  {
   "cell_type": "code",
   "execution_count": null,
   "metadata": {},
   "outputs": [],
   "source": [
    "#| hide\n",
    "import nbdev; nbdev.nbdev_export()"
   ]
  },
  {
   "cell_type": "code",
   "execution_count": null,
   "metadata": {},
   "outputs": [],
   "source": []
  }
 ],
 "metadata": {
  "kernelspec": {
   "display_name": "aa",
   "language": "python",
   "name": "aa"
  }
 },
 "nbformat": 4,
 "nbformat_minor": 4
}
