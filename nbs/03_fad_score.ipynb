{
 "cells": [
  {
   "cell_type": "code",
   "execution_count": null,
   "metadata": {},
   "outputs": [],
   "source": [
    "#| hide\n",
    "%load_ext autoreload\n",
    "%autoreload 2"
   ]
  },
  {
   "cell_type": "markdown",
   "metadata": {},
   "source": [
    "# fad_score\n",
    "\n",
    "> Produce FAD score based on files of embeddings of real and fake data"
   ]
  },
  {
   "cell_type": "markdown",
   "metadata": {},
   "source": [
    "$$ FAD = || \\mu_r - \\mu_f ||^2 + tr\\left(\\Sigma_r + \\Sigma_f - 2 \\sqrt{\\Sigma_r \\Sigma_f}\\right)$$\n",
    "\n",
    "The embeddings are small enough that this can typically be run on a single processor, on a CPU. However, all the supporting code is GPU-friendly if so desired. "
   ]
  },
  {
   "cell_type": "code",
   "execution_count": null,
   "metadata": {},
   "outputs": [],
   "source": [
    "#| default_exp fad_score"
   ]
  },
  {
   "cell_type": "code",
   "execution_count": null,
   "metadata": {},
   "outputs": [],
   "source": [
    "#| hide\n",
    "from nbdev.showdoc import *"
   ]
  },
  {
   "cell_type": "code",
   "execution_count": null,
   "metadata": {},
   "outputs": [],
   "source": [
    "#| export\n",
    "import torch \n",
    "import argparse\n",
    "from fad_pytorch.sqrtm import sqrtm\n",
    "from aeiou.core import fast_scandir"
   ]
  },
  {
   "cell_type": "code",
   "execution_count": null,
   "metadata": {},
   "outputs": [],
   "source": [
    "#| export\n",
    "def read_embeddings(emb_path='real_emb_clap/', debug=False):\n",
    "    \"reads any .pt files in emb_path and concatenates them into one tensor\"\n",
    "    if debug: print(\"searching in \",emb_path) \n",
    "    _, file_list = fast_scandir(emb_path, ['pt'])\n",
    "    if  file_list == []:\n",
    "        _, file_list = fast_scandir('/fsx/shawley/code/fad_pytorch/'+emb_path, ['pt']) # yea, cheap hack just for my testing in nbs/ dir\n",
    "    assert file_list != []\n",
    "    embeddings = []\n",
    "    for file_path in file_list:\n",
    "        emb_batch = torch.load(file_path, map_location='cpu') \n",
    "        embeddings.append(emb_batch)\n",
    "    return torch.cat(embeddings, dim=0)"
   ]
  },
  {
   "cell_type": "code",
   "execution_count": null,
   "metadata": {},
   "outputs": [
    {
     "data": {
      "text/plain": [
       "torch.Size([256, 512])"
      ]
     },
     "execution_count": null,
     "metadata": {},
     "output_type": "execute_result"
    }
   ],
   "source": [
    "#| eval: false\n",
    "# lil test of that\n",
    "e = read_embeddings()\n",
    "e.shape"
   ]
  },
  {
   "cell_type": "code",
   "execution_count": null,
   "metadata": {},
   "outputs": [],
   "source": [
    "#| export \n",
    "def calc_mu_sigma(emb): \n",
    "    \"calculates mean and covariance matrix of batched embeddings\"\n",
    "    mu = torch.mean(emb, axis=0)\n",
    "    sigma = torch.cov(emb.T)\n",
    "    return mu, sigma"
   ]
  },
  {
   "cell_type": "code",
   "execution_count": null,
   "metadata": {},
   "outputs": [
    {
     "data": {
      "text/plain": [
       "(torch.Size([512]), torch.Size([512, 512]))"
      ]
     },
     "execution_count": null,
     "metadata": {},
     "output_type": "execute_result"
    }
   ],
   "source": [
    "#| eval: false\n",
    "# quick test:\n",
    "x = torch.rand(32,512) \n",
    "mu, sigma = calc_mu_sigma(x) \n",
    "mu.shape, sigma.shape "
   ]
  },
  {
   "cell_type": "code",
   "execution_count": null,
   "metadata": {},
   "outputs": [],
   "source": [
    "#| export\n",
    "def calc_score(args, debug=False): \n",
    "    real_emb_path, fake_emb_path = args.real_emb_path, args.fake_emb_path\n",
    "    emb_real = read_embeddings(emb_path=real_emb_path, debug=debug)\n",
    "    emb_fake = read_embeddings(emb_path=fake_emb_path, debug=debug)\n",
    "    if debug: print(emb_real.shape, emb_fake.shape)\n",
    "    \n",
    "    mu_real, sigma_real = calc_mu_sigma(emb_real) \n",
    "    mu_fake, sigma_fake = calc_mu_sigma(emb_fake) \n",
    "    if debug:\n",
    "        print(\"mu_real.shape, sigma_real.shape =\",mu_real.shape, sigma_real.shape)\n",
    "        print(\"mu_fake.shape, sigma_fake.shape =\",mu_fake.shape, sigma_fake.shape)\n",
    "    \n",
    "    diff = mu_real - mu_fake\n",
    "    if debug:\n",
    "        print(\"diff = \",diff) \n",
    "        score1 = diff.dot(diff)\n",
    "        print(\"score1 = \",score1)\n",
    "        score2 = torch.trace(sigma_real)\n",
    "        print(\"score2 = \", score2)\n",
    "        score3 = torch.trace(sigma_fake)\n",
    "        print(\"score3 = \",score3)\n",
    "        score_p = sqrtm( torch.matmul( sigma_real, sigma_fake) )\n",
    "        print(\"score_p.shape = \",score_p.shape) \n",
    "        score4 = -2* torch.trace ( torch.real ( sqrtm( torch.matmul( sigma_real, sigma_fake)  ) ) )\n",
    "        print(\"score4 = \",score4) \n",
    "        score = score1 + score2 + score3 + score4\n",
    "    score = diff.dot(diff) + torch.trace(sigma_real) + torch.trace(sigma_fake) -2* torch.trace ( torch.real ( sqrtm( torch.matmul( sigma_real, sigma_fake)  ) ) )\n",
    "    return score"
   ]
  },
  {
   "cell_type": "code",
   "execution_count": null,
   "metadata": {},
   "outputs": [
    {
     "data": {
      "text/plain": [
       "tensor(0.1561)"
      ]
     },
     "execution_count": null,
     "metadata": {},
     "output_type": "execute_result"
    }
   ],
   "source": [
    "#| eval: false\n",
    "# test the score function\n",
    "class DictToObject:\n",
    "    def __init__(self, dictionary):\n",
    "        for key, value in dictionary.items():\n",
    "            setattr(self, key, value)\n",
    "args_dict = {'real_emb_path':'real_emb_clap/', 'fake_emb_path':'fake_emb_clap/'} \n",
    "score = calc_score( DictToObject(args_dict) )\n",
    "score"
   ]
  },
  {
   "cell_type": "code",
   "execution_count": null,
   "metadata": {},
   "outputs": [],
   "source": [
    "#| export\n",
    "def main(): \n",
    "    parser = argparse.ArgumentParser(formatter_class=argparse.ArgumentDefaultsHelpFormatter)\n",
    "    parser.add_argument('real_emb_path', help='Path of files of embeddings of real data', default='real_emb_clap/')\n",
    "    parser.add_argument('fake_emb_path', help='Path of files of embeddings of fake data', default='fake_emb_clap/')\n",
    "    args = parser.parse_args()\n",
    "    score( args )"
   ]
  },
  {
   "cell_type": "code",
   "execution_count": null,
   "metadata": {},
   "outputs": [],
   "source": [
    "#| export\n",
    "if __name__ == '__main__' and \"get_ipython\" not in dir():\n",
    "    main()"
   ]
  },
  {
   "cell_type": "code",
   "execution_count": null,
   "metadata": {},
   "outputs": [],
   "source": [
    "#| hide\n",
    "import nbdev; nbdev.nbdev_export()"
   ]
  },
  {
   "cell_type": "code",
   "execution_count": null,
   "metadata": {},
   "outputs": [],
   "source": []
  }
 ],
 "metadata": {
  "kernelspec": {
   "display_name": "aa",
   "language": "python",
   "name": "aa"
  }
 },
 "nbformat": 4,
 "nbformat_minor": 4
}
