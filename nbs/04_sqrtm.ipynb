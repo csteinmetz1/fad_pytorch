{
 "cells": [
  {
   "cell_type": "code",
   "execution_count": null,
   "metadata": {},
   "outputs": [],
   "source": [
    "#| hide\n",
    "%load_ext autoreload\n",
    "%autoreload 2"
   ]
  },
  {
   "cell_type": "markdown",
   "metadata": {},
   "source": [
    "# sqrtm\n",
    "\n",
    "> Methods for computing sqrt of a matrix"
   ]
  },
  {
   "cell_type": "code",
   "execution_count": null,
   "metadata": {},
   "outputs": [],
   "source": [
    "#| default_exp sqrtm"
   ]
  },
  {
   "cell_type": "code",
   "execution_count": null,
   "metadata": {},
   "outputs": [],
   "source": [
    "#| hide\n",
    "from nbdev.showdoc import *"
   ]
  },
  {
   "cell_type": "code",
   "execution_count": null,
   "metadata": {},
   "outputs": [],
   "source": [
    "#| export\n",
    "import torch\n",
    "from torch.autograd import Function, Variable\n",
    "import numpy as np\n",
    "import scipy.linalg"
   ]
  },
  {
   "cell_type": "markdown",
   "metadata": {},
   "source": [
    "## Steve Li's method"
   ]
  },
  {
   "cell_type": "code",
   "execution_count": null,
   "metadata": {},
   "outputs": [],
   "source": [
    "#| export\n",
    "class MatrixSquareRoot_li(Function):\n",
    "    \"\"\"\n",
    "    From https://github.com/steveli/pytorch-sqrtm/blob/master/sqrtm.py, which sadly does not install as a package.  LICENSE included below\n",
    "    Square root of a positive definite matrix.\n",
    "\n",
    "    NOTE: matrix square root is not differentiable for matrices with\n",
    "          zero eigenvalues.\n",
    "    \"\"\"\n",
    "    @staticmethod\n",
    "    def forward(ctx, input):\n",
    "        m = input.detach().cpu().numpy().astype(np.float_)  # SHH: note how this immediately switches to CPU & numpy :-( \n",
    "        sqrtm = torch.from_numpy(scipy.linalg.sqrtm(m).real).to(input)\n",
    "        ctx.save_for_backward(sqrtm)\n",
    "        return sqrtm\n",
    "\n",
    "    @staticmethod\n",
    "    def backward(ctx, grad_output):\n",
    "        grad_input = None\n",
    "        if ctx.needs_input_grad[0]:\n",
    "            sqrtm, = ctx.saved_tensors\n",
    "            sqrtm = sqrtm.data.cpu().numpy().astype(np.float_)\n",
    "            gm = grad_output.data.cpu().numpy().astype(np.float_)\n",
    "\n",
    "            # Given a positive semi-definite matrix X,\n",
    "            # since X = X^{1/2}X^{1/2}, we can compute the gradient of the\n",
    "            # matrix square root dX^{1/2} by solving the Sylvester equation:\n",
    "            # dX = (d(X^{1/2})X^{1/2} + X^{1/2}(dX^{1/2}).\n",
    "            grad_sqrtm = scipy.linalg.solve_sylvester(sqrtm, sqrtm, gm)\n",
    "\n",
    "            grad_input = torch.from_numpy(grad_sqrtm).to(grad_output)\n",
    "        return grad_input\n",
    "\n",
    "\n",
    "sqrtm_li = MatrixSquareRoot_li.apply\n",
    "\n",
    "\n",
    "LICENCE_LI = \"\"\"\n",
    "MIT License\n",
    "\n",
    "Copyright (c) 2022 Steven Cheng-Xian Li\n",
    "\n",
    "Permission is hereby granted, free of charge, to any person obtaining a copy\n",
    "of this software and associated documentation files (the \"Software\"), to deal\n",
    "in the Software without restriction, including without limitation the rights\n",
    "to use, copy, modify, merge, publish, distribute, sublicense, and/or sell\n",
    "copies of the Software, and to permit persons to whom the Software is\n",
    "furnished to do so, subject to the following conditions:\n",
    "\n",
    "The above copyright notice and this permission notice shall be included in all\n",
    "copies or substantial portions of the Software.\n",
    "\n",
    "THE SOFTWARE IS PROVIDED \"AS IS\", WITHOUT WARRANTY OF ANY KIND, EXPRESS OR\n",
    "IMPLIED, INCLUDING BUT NOT LIMITED TO THE WARRANTIES OF MERCHANTABILITY,\n",
    "FITNESS FOR A PARTICULAR PURPOSE AND NONINFRINGEMENT. IN NO EVENT SHALL THE\n",
    "AUTHORS OR COPYRIGHT HOLDERS BE LIABLE FOR ANY CLAIM, DAMAGES OR OTHER\n",
    "LIABILITY, WHETHER IN AN ACTION OF CONTRACT, TORT OR OTHERWISE, ARISING FROM,\n",
    "OUT OF OR IN CONNECTION WITH THE SOFTWARE OR THE USE OR OTHER DEALINGS IN THE\n",
    "SOFTWARE.\n",
    "\"\"\""
   ]
  },
  {
   "cell_type": "markdown",
   "metadata": {},
   "source": [
    "Steve Li's test code for the above:\n"
   ]
  },
  {
   "cell_type": "code",
   "execution_count": null,
   "metadata": {},
   "outputs": [],
   "source": [
    "#| eval: false \n",
    "from torch.autograd import gradcheck"
   ]
  },
  {
   "cell_type": "code",
   "execution_count": null,
   "metadata": {},
   "outputs": [
    {
     "ename": "NameError",
     "evalue": "name 'torch' is not defined",
     "output_type": "error",
     "traceback": [
      "\u001b[0;31m---------------------------------------------------------------------------\u001b[0m",
      "\u001b[0;31mNameError\u001b[0m                                 Traceback (most recent call last)",
      "Cell \u001b[0;32mIn[2], line 2\u001b[0m\n\u001b[1;32m      1\u001b[0m \u001b[38;5;66;03m#| eval: false \u001b[39;00m\n\u001b[0;32m----> 2\u001b[0m k \u001b[38;5;241m=\u001b[39m \u001b[43mtorch\u001b[49m\u001b[38;5;241m.\u001b[39mrandn(\u001b[38;5;241m20\u001b[39m, \u001b[38;5;241m10\u001b[39m)\u001b[38;5;241m.\u001b[39mdouble()\n\u001b[1;32m      3\u001b[0m \u001b[38;5;66;03m# Create a positive definite matrix\u001b[39;00m\n\u001b[1;32m      4\u001b[0m pd_mat \u001b[38;5;241m=\u001b[39m (k\u001b[38;5;241m.\u001b[39mt()\u001b[38;5;241m.\u001b[39mmatmul(k))\u001b[38;5;241m.\u001b[39mrequires_grad_()\n",
      "\u001b[0;31mNameError\u001b[0m: name 'torch' is not defined"
     ]
    }
   ],
   "source": [
    "#| eval: false \n",
    "k = torch.randn(20, 10).double()\n",
    "# Create a positive definite matrix\n",
    "pd_mat = (k.t().matmul(k)).requires_grad_()\n",
    "sq = sqrtm_li(pd_mat)\n",
    "print(sq)\n",
    "test = gradcheck(sqrtm_li, (pd_mat,))\n",
    "print(test)"
   ]
  },
  {
   "cell_type": "markdown",
   "metadata": {},
   "source": [
    "## Subhransu Maji's method(s)\n",
    "\n",
    "From https://github.com/msubhransu/matrix-sqrt"
   ]
  },
  {
   "cell_type": "code",
   "execution_count": null,
   "metadata": {},
   "outputs": [],
   "source": [
    "#| export\n",
    "\n",
    "# Compute error\n",
    "def compute_error(A, sA):\n",
    "    normA = torch.sqrt(torch.sum(torch.sum(A * A, dim=1),dim=1))\n",
    "    error = A - torch.bmm(sA, sA)\n",
    "    error = torch.sqrt((error * error).sum(dim=1).sum(dim=1)) / normA\n",
    "    return torch.mean(error)\n",
    "\n",
    "\n",
    "def sqrt_newton_schulz_autograd(A, \n",
    "                                numIters=7, # 7 found experimentally by SHH, comparing w/ Li's method\n",
    "                               ):\n",
    "    \"\"\"Modified from from https://people.cs.umass.edu/~smaji/projects/matrix-sqrt/\n",
    "    \"The drawback of the autograd approach [i.e., this approach] is that a naive implementation stores all the intermediate results. \n",
    "    Thus the memory overhead scales linearly with the number of iterations which is problematic for large matrices.\"\n",
    "    \"\"\"\n",
    "    if len(A.data.shape) < 3: A = A.unsqueeze(0)\n",
    "    batchSize, dim1, dim2 = A.data.shape\n",
    "    assert dim1==dim2\n",
    "    dim, dtype, device = dim1, A.dtype, A.device\n",
    "    normA = A.mul(A).sum(dim=1).sum(dim=1).sqrt()\n",
    "    Y = A.div(normA.view(batchSize, 1, 1).expand_as(A));\n",
    "    I = Variable(torch.eye(dim,dim, device=device).view(1, dim, dim).\n",
    "                 repeat(batchSize,1,1).type(dtype),requires_grad=False)\n",
    "    Z = Variable(torch.eye(dim,dim, device=device).view(1, dim, dim).\n",
    "                 repeat(batchSize,1,1).type(dtype),requires_grad=False)\n",
    "\n",
    "    for i in range(numIters):\n",
    "        T = 0.5*(3.0*I - Z.bmm(Y))\n",
    "        Y = Y.bmm(T)\n",
    "        Z = T.bmm(Z)\n",
    "    \n",
    "    sA = Y*torch.sqrt(normA).view(batchSize, 1, 1).expand_as(A)\n",
    "    error = compute_error(A, sA)\n",
    "    return sA, error\n",
    "\n",
    "\n",
    "def sqrt_newton_schulz(A, numIters=7, calc_error=True):\n",
    "    \"\"\"\n",
    "    Modified from https://github.com/msubhransu/matrix-sqrt/blob/cc2289a3ed7042b8dbacd53ce8a34da1f814ed2f/matrix_sqrt.py#LL72C1-L87C19\n",
    "    # Forward via Newton-Schulz iterations (non autograd version)\n",
    "    # Seems to be slighlty faster and has much lower memory overhead\n",
    "    ...original didn't preserve device, had no batch dim checking\n",
    "    \"\"\"\n",
    "    #batchSize = A.shape[0]\n",
    "    #dim = A.shape[1]\n",
    "    while len(A.data.shape) < 3: \n",
    "        A = A.unsqueeze(0)\n",
    "    batchSize, dim1, dim2 = A.data.shape\n",
    "    assert dim1==dim2\n",
    "    dim, dtype, device = dim1, A.dtype, A.device\n",
    "    normA = A.mul(A).sum(dim=1).sum(dim=1).sqrt()\n",
    "    Y = A.div(normA.view(batchSize, 1, 1).expand_as(A));\n",
    "    I = torch.eye(dim,dim, device=device, dtype=dtype).view(1, dim, dim).repeat(batchSize,1,1)\n",
    "    Z = torch.eye(dim,dim, device=device, dtype=dtype).view(1, dim, dim).repeat(batchSize,1,1)\n",
    "    for i in range(numIters):\n",
    "        T = 0.5*(3.0*I - Z.bmm(Y))\n",
    "        Y = Y.bmm(T)\n",
    "        Z = T.bmm(Z)\n",
    "        \n",
    "    sA = Y*torch.sqrt(normA).view(batchSize, 1, 1).expand_as(A)\n",
    "    if calc_error: \n",
    "        error = compute_error(A, sA)\n",
    "        return sA, error\n",
    "    else:\n",
    "        return sA\n",
    "\n",
    "\n",
    "def lyap_newton_schulz(z, dldz, numIters, dtype):\n",
    "    \"\"\"  UNUSED by FAD code\n",
    "    # Backward via iterative Lyapunov solver.   \n",
    "    --I don't plan use do backward passes, but including code anyway -SHH\n",
    "    \"\"\"\n",
    "    batchSize = z.shape[0]\n",
    "    dim = z.shape[1]\n",
    "    normz = z.mul(z).sum(dim=1).sum(dim=1).sqrt()\n",
    "    a = z.div(normz.view(batchSize, 1, 1).expand_as(z))\n",
    "    I = torch.eye(dim,dim).view(1, dim, dim).repeat(batchSize,1,1).type(dtype)\n",
    "    q = dldz.div(normz.view(batchSize, 1, 1).expand_as(z))\n",
    "    for i in range(numIters):\n",
    "        q = 0.5*(q.bmm(3.0*I - a.bmm(a)) - a.transpose(1, 2).bmm(a.transpose(1,2).bmm(q) - q.bmm(a)) )\n",
    "        a = 0.5*a.bmm(3.0*I - a.bmm(a))\n",
    "    dlda = 0.5*q\n",
    "    return dlda    \n",
    "\n",
    "\n",
    "LICENCE_SM = \"\"\"\n",
    "MIT License\n",
    "\n",
    "Copyright (c) 2017 Subhransu Maji\n",
    "\n",
    "Permission is hereby granted, free of charge, to any person obtaining a copy\n",
    "of this software and associated documentation files (the \"Software\"), to deal\n",
    "in the Software without restriction, including without limitation the rights\n",
    "to use, copy, modify, merge, publish, distribute, sublicense, and/or sell\n",
    "copies of the Software, and to permit persons to whom the Software is\n",
    "furnished to do so, subject to the following conditions:\n",
    "\n",
    "The above copyright notice and this permission notice shall be included in all\n",
    "copies or substantial portions of the Software.\n",
    "\n",
    "THE SOFTWARE IS PROVIDED \"AS IS\", WITHOUT WARRANTY OF ANY KIND, EXPRESS OR\n",
    "IMPLIED, INCLUDING BUT NOT LIMITED TO THE WARRANTIES OF MERCHANTABILITY,\n",
    "FITNESS FOR A PARTICULAR PURPOSE AND NONINFRINGEMENT. IN NO EVENT SHALL THE\n",
    "AUTHORS OR COPYRIGHT HOLDERS BE LIABLE FOR ANY CLAIM, DAMAGES OR OTHER\n",
    "LIABILITY, WHETHER IN AN ACTION OF CONTRACT, TORT OR OTHERWISE, ARISING FROM,\n",
    "OUT OF OR IN CONNECTION WITH THE SOFTWARE OR THE USE OR OTHER DEALINGS IN THE\n",
    "SOFTWARE.\n",
    "\"\"\""
   ]
  },
  {
   "cell_type": "markdown",
   "metadata": {},
   "source": [
    "## Error tests"
   ]
  },
  {
   "cell_type": "code",
   "execution_count": null,
   "metadata": {},
   "outputs": [
    {
     "data": {
      "text/plain": [
       "(tensor([[[ 3.7903e+00, -1.0208e-01, -4.6511e-01,  1.7517e-01, -7.4580e-01,\n",
       "           -1.4961e-01,  7.4583e-02,  2.2315e-01, -8.8865e-01, -5.6481e-01],\n",
       "          [-1.0208e-01,  3.8343e+00, -9.7753e-02,  6.1448e-02, -5.9080e-01,\n",
       "           -7.1447e-02,  9.9068e-01,  4.4910e-02, -7.4357e-01, -4.8293e-01],\n",
       "          [-4.6511e-01, -9.7753e-02,  4.7436e+00,  2.2309e-01, -9.7453e-02,\n",
       "            7.5175e-01,  6.2573e-01, -3.8497e-01, -1.1455e+00,  4.5506e-01],\n",
       "          [ 1.7517e-01,  6.1448e-02,  2.2309e-01,  4.1261e+00, -8.5799e-01,\n",
       "            1.0368e+00,  1.1132e-02,  7.8348e-02,  3.1722e-01,  3.4711e-01],\n",
       "          [-7.4580e-01, -5.9080e-01, -9.7453e-02, -8.5799e-01,  5.0818e+00,\n",
       "           -6.5439e-01,  5.0535e-01, -4.9387e-01, -5.9523e-02, -2.4595e-01],\n",
       "          [-1.4961e-01, -7.1447e-02,  7.5175e-01,  1.0368e+00, -6.5439e-01,\n",
       "            2.8483e+00, -1.1602e-02,  2.5504e-01, -7.5898e-01, -3.6447e-01],\n",
       "          [ 7.4583e-02,  9.9068e-01,  6.2573e-01,  1.1132e-02,  5.0535e-01,\n",
       "           -1.1602e-02,  3.7768e+00,  1.5214e-01, -7.9953e-01, -3.5836e-01],\n",
       "          [ 2.2315e-01,  4.4910e-02, -3.8497e-01,  7.8348e-02, -4.9387e-01,\n",
       "            2.5504e-01,  1.5214e-01,  3.1712e+00,  9.2251e-02,  3.0898e-02],\n",
       "          [-8.8865e-01, -7.4357e-01, -1.1455e+00,  3.1722e-01, -5.9523e-02,\n",
       "           -7.5898e-01, -7.9953e-01,  9.2251e-02,  4.7642e+00,  5.0577e-03],\n",
       "          [-5.6481e-01, -4.8293e-01,  4.5506e-01,  3.4711e-01, -2.4595e-01,\n",
       "           -3.6447e-01, -3.5836e-01,  3.0898e-02,  5.0577e-03,  5.1101e+00]]],\n",
       "        dtype=torch.float64, grad_fn=<MulBackward0>),\n",
       " tensor(1.4477e-05, dtype=torch.float64, grad_fn=<MeanBackward0>))"
      ]
     },
     "execution_count": null,
     "metadata": {},
     "output_type": "execute_result"
    }
   ],
   "source": [
    "#| eval: false \n",
    "sa1, error = sqrt_newton_schulz_autograd( pd_mat.unsqueeze(0), numIters=7 ) \n",
    "sa1, error"
   ]
  },
  {
   "cell_type": "code",
   "execution_count": null,
   "metadata": {},
   "outputs": [
    {
     "data": {
      "text/plain": [
       "(tensor([[[ 3.7903e+00, -1.0208e-01, -4.6511e-01,  1.7517e-01, -7.4580e-01,\n",
       "           -1.4961e-01,  7.4583e-02,  2.2315e-01, -8.8865e-01, -5.6481e-01],\n",
       "          [-1.0208e-01,  3.8343e+00, -9.7753e-02,  6.1448e-02, -5.9080e-01,\n",
       "           -7.1447e-02,  9.9068e-01,  4.4910e-02, -7.4357e-01, -4.8293e-01],\n",
       "          [-4.6511e-01, -9.7753e-02,  4.7436e+00,  2.2309e-01, -9.7453e-02,\n",
       "            7.5175e-01,  6.2573e-01, -3.8497e-01, -1.1455e+00,  4.5506e-01],\n",
       "          [ 1.7517e-01,  6.1448e-02,  2.2309e-01,  4.1261e+00, -8.5799e-01,\n",
       "            1.0368e+00,  1.1132e-02,  7.8348e-02,  3.1722e-01,  3.4711e-01],\n",
       "          [-7.4580e-01, -5.9080e-01, -9.7453e-02, -8.5799e-01,  5.0818e+00,\n",
       "           -6.5439e-01,  5.0535e-01, -4.9387e-01, -5.9523e-02, -2.4595e-01],\n",
       "          [-1.4961e-01, -7.1447e-02,  7.5175e-01,  1.0368e+00, -6.5439e-01,\n",
       "            2.8483e+00, -1.1602e-02,  2.5504e-01, -7.5898e-01, -3.6447e-01],\n",
       "          [ 7.4583e-02,  9.9068e-01,  6.2573e-01,  1.1132e-02,  5.0535e-01,\n",
       "           -1.1602e-02,  3.7768e+00,  1.5214e-01, -7.9953e-01, -3.5836e-01],\n",
       "          [ 2.2315e-01,  4.4910e-02, -3.8497e-01,  7.8348e-02, -4.9387e-01,\n",
       "            2.5504e-01,  1.5214e-01,  3.1712e+00,  9.2251e-02,  3.0898e-02],\n",
       "          [-8.8865e-01, -7.4357e-01, -1.1455e+00,  3.1722e-01, -5.9523e-02,\n",
       "           -7.5898e-01, -7.9953e-01,  9.2251e-02,  4.7642e+00,  5.0577e-03],\n",
       "          [-5.6481e-01, -4.8293e-01,  4.5506e-01,  3.4711e-01, -2.4595e-01,\n",
       "           -3.6447e-01, -3.5836e-01,  3.0898e-02,  5.0577e-03,  5.1101e+00]]],\n",
       "        dtype=torch.float64, grad_fn=<MulBackward0>),\n",
       " tensor(1.4477e-05, dtype=torch.float64, grad_fn=<MeanBackward0>))"
      ]
     },
     "execution_count": null,
     "metadata": {},
     "output_type": "execute_result"
    }
   ],
   "source": [
    "#| eval: false \n",
    "sa2, error = sqrt_newton_schulz( pd_mat.unsqueeze(0), numIters=7 ) \n",
    "sa2, error"
   ]
  },
  {
   "cell_type": "code",
   "execution_count": null,
   "metadata": {},
   "outputs": [
    {
     "data": {
      "text/plain": [
       "tensor([[[-4.4797e-05, -3.1908e-05, -9.0556e-07,  4.1434e-05, -2.1449e-05,\n",
       "          -8.8734e-05, -1.8313e-06,  1.5652e-05, -4.6569e-05, -2.6264e-05],\n",
       "         [-3.1908e-05, -2.2827e-05, -7.7784e-07,  2.9361e-05, -1.5343e-05,\n",
       "          -6.2912e-05, -1.1153e-06,  1.0995e-05, -3.3114e-05, -1.8642e-05],\n",
       "         [-9.0556e-07, -7.7784e-07, -1.9497e-07,  6.3666e-07, -5.1983e-07,\n",
       "          -1.4083e-06,  2.1449e-07,  1.1260e-07, -8.6786e-07, -4.4392e-07],\n",
       "         [ 4.1434e-05,  2.9361e-05,  6.3666e-07, -3.8552e-05,  1.9741e-05,\n",
       "           8.2510e-05,  1.9799e-06, -1.4708e-05,  4.3156e-05,  2.4391e-05],\n",
       "         [-2.1449e-05, -1.5343e-05, -5.1983e-07,  1.9741e-05, -1.0312e-05,\n",
       "          -4.2298e-05, -7.5408e-07,  7.3947e-06, -2.2262e-05, -1.2533e-05],\n",
       "         [-8.8734e-05, -6.2912e-05, -1.4083e-06,  8.2510e-05, -4.2298e-05,\n",
       "          -1.7660e-04, -4.1762e-06,  3.1447e-05, -9.2404e-05, -5.2213e-05],\n",
       "         [-1.8313e-06, -1.1153e-06,  2.1449e-07,  1.9799e-06, -7.5408e-07,\n",
       "          -4.1762e-06, -4.3295e-07,  9.2999e-07, -2.0084e-06, -1.1975e-06],\n",
       "         [ 1.5652e-05,  1.0995e-05,  1.1260e-07, -1.4708e-05,  7.3947e-06,\n",
       "           3.1447e-05,  9.2999e-07, -5.7036e-06,  1.6355e-05,  9.2767e-06],\n",
       "         [-4.6569e-05, -3.3114e-05, -8.6786e-07,  4.3156e-05, -2.2262e-05,\n",
       "          -9.2404e-05, -2.0084e-06,  1.6355e-05, -4.8441e-05, -2.7339e-05],\n",
       "         [-2.6264e-05, -1.8642e-05, -4.4392e-07,  2.4391e-05, -1.2533e-05,\n",
       "          -5.2213e-05, -1.1975e-06,  9.2767e-06, -2.7339e-05, -1.5441e-05]]],\n",
       "       dtype=torch.float64, grad_fn=<SubBackward0>)"
      ]
     },
     "execution_count": null,
     "metadata": {},
     "output_type": "execute_result"
    }
   ],
   "source": [
    "#| eval: false \n",
    "sa1 - sq"
   ]
  },
  {
   "cell_type": "code",
   "execution_count": null,
   "metadata": {},
   "outputs": [
    {
     "data": {
      "text/plain": [
       "tensor([[[-4.4797e-05, -3.1908e-05, -9.0556e-07,  4.1434e-05, -2.1449e-05,\n",
       "          -8.8734e-05, -1.8313e-06,  1.5652e-05, -4.6569e-05, -2.6264e-05],\n",
       "         [-3.1908e-05, -2.2827e-05, -7.7784e-07,  2.9361e-05, -1.5343e-05,\n",
       "          -6.2912e-05, -1.1153e-06,  1.0995e-05, -3.3114e-05, -1.8642e-05],\n",
       "         [-9.0556e-07, -7.7784e-07, -1.9497e-07,  6.3666e-07, -5.1983e-07,\n",
       "          -1.4083e-06,  2.1449e-07,  1.1260e-07, -8.6786e-07, -4.4392e-07],\n",
       "         [ 4.1434e-05,  2.9361e-05,  6.3666e-07, -3.8552e-05,  1.9741e-05,\n",
       "           8.2510e-05,  1.9799e-06, -1.4708e-05,  4.3156e-05,  2.4391e-05],\n",
       "         [-2.1449e-05, -1.5343e-05, -5.1983e-07,  1.9741e-05, -1.0312e-05,\n",
       "          -4.2298e-05, -7.5408e-07,  7.3947e-06, -2.2262e-05, -1.2533e-05],\n",
       "         [-8.8734e-05, -6.2912e-05, -1.4083e-06,  8.2510e-05, -4.2298e-05,\n",
       "          -1.7660e-04, -4.1762e-06,  3.1447e-05, -9.2404e-05, -5.2213e-05],\n",
       "         [-1.8313e-06, -1.1153e-06,  2.1449e-07,  1.9799e-06, -7.5408e-07,\n",
       "          -4.1762e-06, -4.3295e-07,  9.2999e-07, -2.0084e-06, -1.1975e-06],\n",
       "         [ 1.5652e-05,  1.0995e-05,  1.1260e-07, -1.4708e-05,  7.3947e-06,\n",
       "           3.1447e-05,  9.2999e-07, -5.7036e-06,  1.6355e-05,  9.2767e-06],\n",
       "         [-4.6569e-05, -3.3114e-05, -8.6786e-07,  4.3156e-05, -2.2262e-05,\n",
       "          -9.2404e-05, -2.0084e-06,  1.6355e-05, -4.8441e-05, -2.7339e-05],\n",
       "         [-2.6264e-05, -1.8642e-05, -4.4392e-07,  2.4391e-05, -1.2533e-05,\n",
       "          -5.2213e-05, -1.1975e-06,  9.2767e-06, -2.7339e-05, -1.5441e-05]]],\n",
       "       dtype=torch.float64, grad_fn=<SubBackward0>)"
      ]
     },
     "execution_count": null,
     "metadata": {},
     "output_type": "execute_result"
    }
   ],
   "source": [
    "#| eval: false \n",
    "sa2 - sq"
   ]
  },
  {
   "cell_type": "markdown",
   "metadata": {},
   "source": [
    "## Speed & device tests"
   ]
  },
  {
   "cell_type": "code",
   "execution_count": null,
   "metadata": {},
   "outputs": [],
   "source": [
    "#| eval: false \n",
    "from aeiou.core import get_device"
   ]
  },
  {
   "cell_type": "code",
   "execution_count": null,
   "metadata": {},
   "outputs": [
    {
     "name": "stdout",
     "output_type": "stream",
     "text": [
      "device =  mps\n"
     ]
    }
   ],
   "source": [
    "#| eval: false \n",
    "device = get_device()\n",
    "print('device = ',device)\n",
    "n,m = 1000, 1000\n",
    "with torch.no_grad(): \n",
    "    k = torch.randn(n, m, device=device)\n",
    "    pd_mat2 = (k.t().matmul(k)) # Create a positive definite matrix, no grad"
   ]
  },
  {
   "cell_type": "code",
   "execution_count": null,
   "metadata": {},
   "outputs": [
    {
     "name": "stdout",
     "output_type": "stream",
     "text": [
      "1.7 s ± 395 ms per loop (mean ± std. dev. of 7 runs, 1 loop each)\n"
     ]
    }
   ],
   "source": [
    "#| eval: false \n",
    "#%%timeit\n",
    "sq2 = sqrtm_li(pd_mat2)"
   ]
  },
  {
   "cell_type": "markdown",
   "metadata": {},
   "source": [
    "Result of `%%timeit`:\n",
    "\n",
    "`1.7 s ± 395 ms per loop (mean ± std. dev. of 7 runs, 1 loop each)`"
   ]
  },
  {
   "cell_type": "code",
   "execution_count": null,
   "metadata": {},
   "outputs": [],
   "source": [
    "#| eval: false \n",
    "#%%timeit\n",
    "sq3 = sqrt_newton_schulz(pd_mat2.unsqueeze(0))"
   ]
  },
  {
   "cell_type": "markdown",
   "metadata": {},
   "source": [
    "Result of `%%timeit`:\n",
    "\n",
    "`13 ms ± 15.3 µs per loop (mean ± std. dev. of 7 runs, 100 loops each)`"
   ]
  },
  {
   "cell_type": "markdown",
   "metadata": {},
   "source": [
    "## Thus, we'll put a wrapper around our method of choice:"
   ]
  },
  {
   "cell_type": "code",
   "execution_count": null,
   "metadata": {},
   "outputs": [],
   "source": [
    "#|export \n",
    "def sqrtm(A, numIters=7):\n",
    "    \"wrapper function for matrix sqrt algorithm of choice\"\n",
    "    return sqrt_newton_schulz(A, numIters=numIters, calc_error=False)"
   ]
  },
  {
   "cell_type": "code",
   "execution_count": null,
   "metadata": {},
   "outputs": [],
   "source": [
    "#| eval: false \n",
    "sqrtm(pd_mat2) "
   ]
  },
  {
   "cell_type": "code",
   "execution_count": null,
   "metadata": {},
   "outputs": [],
   "source": [
    "#| hide\n",
    "import nbdev; nbdev.nbdev_export()"
   ]
  }
 ],
 "metadata": {
  "kernelspec": {
   "display_name": "aa",
   "language": "python",
   "name": "aa"
  }
 },
 "nbformat": 4,
 "nbformat_minor": 4
}
