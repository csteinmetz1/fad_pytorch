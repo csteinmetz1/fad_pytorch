{
 "cells": [
  {
   "cell_type": "code",
   "execution_count": null,
   "metadata": {},
   "outputs": [
    {
     "name": "stdout",
     "output_type": "stream",
     "text": [
      "The autoreload extension is already loaded. To reload it, use:\n",
      "  %reload_ext autoreload\n"
     ]
    }
   ],
   "source": [
    "#| hide\n",
    "%load_ext autoreload\n",
    "%autoreload 2"
   ]
  },
  {
   "cell_type": "markdown",
   "metadata": {},
   "source": [
    "# sqrtm\n",
    "\n",
    "> Methods for computing sqrt of a matrix"
   ]
  },
  {
   "cell_type": "code",
   "execution_count": null,
   "metadata": {},
   "outputs": [],
   "source": [
    "#| default_exp sqrtm"
   ]
  },
  {
   "cell_type": "code",
   "execution_count": null,
   "metadata": {},
   "outputs": [],
   "source": [
    "#| hide\n",
    "from nbdev.showdoc import *"
   ]
  },
  {
   "cell_type": "code",
   "execution_count": null,
   "metadata": {},
   "outputs": [],
   "source": [
    "#| export\n",
    "import torch\n",
    "from torch.autograd import Function, Variable"
   ]
  },
  {
   "cell_type": "markdown",
   "metadata": {},
   "source": [
    "## Steve Li's method"
   ]
  },
  {
   "cell_type": "code",
   "execution_count": null,
   "metadata": {},
   "outputs": [],
   "source": [
    "#| export\n",
    "\n",
    "use_li = False  # come back and turn this on if you want to see/use the full code\n",
    "\n",
    "if use_li:      # lighten the load of imports since we won't use li's in production\n",
    "    import numpy as np\n",
    "    import scipy.linalg"
   ]
  },
  {
   "cell_type": "code",
   "execution_count": null,
   "metadata": {},
   "outputs": [],
   "source": [
    "#| export\n",
    "class MatrixSquareRoot_li(Function):\n",
    "    \"\"\"\n",
    "    From https://github.com/steveli/pytorch-sqrtm/blob/master/sqrtm.py, which sadly does not install as a package.  LICENSE included below\n",
    "    Square root of a positive definite matrix.\n",
    "\n",
    "    NOTE: matrix square root is not differentiable for matrices with\n",
    "          zero eigenvalues.\n",
    "    \"\"\"\n",
    "    @staticmethod\n",
    "    def forward(ctx, input):\n",
    "        m = input.detach().cpu().numpy().astype(np.float_)  # SHH: note how this immediately switches to CPU & numpy :-( \n",
    "        sqrtm = torch.from_numpy(scipy.linalg.sqrtm(m).real).to(input)\n",
    "        ctx.save_for_backward(sqrtm)\n",
    "        return sqrtm\n",
    "\n",
    "    @staticmethod\n",
    "    def backward(ctx, grad_output):\n",
    "        grad_input = None\n",
    "        if ctx.needs_input_grad[0]:\n",
    "            sqrtm, = ctx.saved_tensors\n",
    "            sqrtm = sqrtm.data.cpu().numpy().astype(np.float_)\n",
    "            gm = grad_output.data.cpu().numpy().astype(np.float_)\n",
    "\n",
    "            # Given a positive semi-definite matrix X,\n",
    "            # since X = X^{1/2}X^{1/2}, we can compute the gradient of the\n",
    "            # matrix square root dX^{1/2} by solving the Sylvester equation:\n",
    "            # dX = (d(X^{1/2})X^{1/2} + X^{1/2}(dX^{1/2}).\n",
    "            grad_sqrtm = scipy.linalg.solve_sylvester(sqrtm, sqrtm, gm)\n",
    "\n",
    "            grad_input = torch.from_numpy(grad_sqrtm).to(grad_output)\n",
    "        return grad_input\n",
    "\n",
    "\n",
    "sqrtm_li = MatrixSquareRoot_li.apply\n",
    "\n",
    "\n",
    "LICENCE_LI = \"\"\"\n",
    "MIT License\n",
    "\n",
    "Copyright (c) 2022 Steven Cheng-Xian Li\n",
    "\n",
    "Permission is hereby granted, free of charge, to any person obtaining a copy\n",
    "of this software and associated documentation files (the \"Software\"), to deal\n",
    "in the Software without restriction, including without limitation the rights\n",
    "to use, copy, modify, merge, publish, distribute, sublicense, and/or sell\n",
    "copies of the Software, and to permit persons to whom the Software is\n",
    "furnished to do so, subject to the following conditions:\n",
    "\n",
    "The above copyright notice and this permission notice shall be included in all\n",
    "copies or substantial portions of the Software.\n",
    "\n",
    "THE SOFTWARE IS PROVIDED \"AS IS\", WITHOUT WARRANTY OF ANY KIND, EXPRESS OR\n",
    "IMPLIED, INCLUDING BUT NOT LIMITED TO THE WARRANTIES OF MERCHANTABILITY,\n",
    "FITNESS FOR A PARTICULAR PURPOSE AND NONINFRINGEMENT. IN NO EVENT SHALL THE\n",
    "AUTHORS OR COPYRIGHT HOLDERS BE LIABLE FOR ANY CLAIM, DAMAGES OR OTHER\n",
    "LIABILITY, WHETHER IN AN ACTION OF CONTRACT, TORT OR OTHERWISE, ARISING FROM,\n",
    "OUT OF OR IN CONNECTION WITH THE SOFTWARE OR THE USE OR OTHER DEALINGS IN THE\n",
    "SOFTWARE.\n",
    "\"\"\""
   ]
  },
  {
   "cell_type": "markdown",
   "metadata": {},
   "source": [
    "Steve Li's test code for the above:\n"
   ]
  },
  {
   "cell_type": "code",
   "execution_count": null,
   "metadata": {},
   "outputs": [],
   "source": [
    "#| eval: false \n",
    "from torch.autograd import gradcheck"
   ]
  },
  {
   "cell_type": "code",
   "execution_count": null,
   "metadata": {},
   "outputs": [
    {
     "name": "stdout",
     "output_type": "stream",
     "text": [
      "tensor([[ 4.3880e+00,  3.0241e-01, -1.3668e-01,  5.1494e-01, -5.3276e-01,\n",
      "          2.7611e-01, -8.6985e-01, -5.1909e-01,  7.9893e-01,  4.4863e-01],\n",
      "        [ 3.0241e-01,  4.8187e+00,  3.3622e-01,  4.6490e-01,  5.7077e-01,\n",
      "         -4.6965e-01, -1.3664e-01,  3.3543e-01, -8.7196e-01,  5.2538e-02],\n",
      "        [-1.3668e-01,  3.3622e-01,  4.2170e+00, -1.3224e-01, -6.8163e-01,\n",
      "          3.2648e-01,  6.0498e-01,  9.8877e-01, -3.9825e-01, -5.8457e-02],\n",
      "        [ 5.1494e-01,  4.6490e-01, -1.3224e-01,  3.2379e+00,  6.9414e-01,\n",
      "         -4.4017e-01, -1.9384e-01,  3.7950e-01, -2.5017e-03, -3.5434e-01],\n",
      "        [-5.3276e-01,  5.7077e-01, -6.8163e-01,  6.9414e-01,  4.7020e+00,\n",
      "          1.7619e-01, -9.9632e-02,  2.9081e-02, -2.6256e-01, -3.7996e-01],\n",
      "        [ 2.7611e-01, -4.6965e-01,  3.2648e-01, -4.4017e-01,  1.7619e-01,\n",
      "          4.5748e+00, -7.2716e-01,  2.6542e-02, -4.6386e-01,  6.8533e-02],\n",
      "        [-8.6985e-01, -1.3664e-01,  6.0498e-01, -1.9384e-01, -9.9632e-02,\n",
      "         -7.2716e-01,  3.9740e+00, -7.8366e-01,  7.3990e-02, -5.5418e-01],\n",
      "        [-5.1909e-01,  3.3543e-01,  9.8877e-01,  3.7950e-01,  2.9081e-02,\n",
      "          2.6542e-02, -7.8366e-01,  4.0677e+00,  9.3098e-02,  3.6642e-01],\n",
      "        [ 7.9893e-01, -8.7196e-01, -3.9825e-01, -2.5017e-03, -2.6256e-01,\n",
      "         -4.6386e-01,  7.3990e-02,  9.3098e-02,  2.9191e+00, -4.4697e-01],\n",
      "        [ 4.4863e-01,  5.2538e-02, -5.8457e-02, -3.5434e-01, -3.7996e-01,\n",
      "          6.8533e-02, -5.5418e-01,  3.6642e-01, -4.4697e-01,  4.2622e+00]],\n",
      "       dtype=torch.float64, grad_fn=<MatrixSquareRoot_liBackward>)\n",
      "True\n"
     ]
    }
   ],
   "source": [
    "#| eval: false \n",
    "if use_li:\n",
    "    k = torch.randn(20, 10).double()\n",
    "    # Create a positive definite matrix\n",
    "    pd_mat = (k.t().matmul(k)).requires_grad_()\n",
    "    sq = sqrtm_li(pd_mat)\n",
    "    print(sq)\n",
    "    test = gradcheck(sqrtm_li, (pd_mat,))\n",
    "    print(test)"
   ]
  },
  {
   "cell_type": "markdown",
   "metadata": {},
   "source": [
    "## Subhransu Maji's method(s)\n",
    "\n",
    "From https://github.com/msubhransu/matrix-sqrt"
   ]
  },
  {
   "cell_type": "code",
   "execution_count": null,
   "metadata": {},
   "outputs": [],
   "source": [
    "#| export\n",
    "\n",
    "# Compute error\n",
    "def compute_error(A, sA):\n",
    "    normA = torch.sqrt(torch.sum(torch.sum(A * A, dim=1),dim=1))\n",
    "    error = A - torch.bmm(sA, sA)\n",
    "    error = torch.sqrt((error * error).sum(dim=1).sum(dim=1)) / normA\n",
    "    return torch.mean(error)\n",
    "\n",
    "\n",
    "def sqrt_newton_schulz_autograd(A, \n",
    "                                numIters=7, # 7 found experimentally by SHH, comparing w/ Li's method\n",
    "                               ):\n",
    "    \"\"\"Modified from from https://people.cs.umass.edu/~smaji/projects/matrix-sqrt/\n",
    "    \"The drawback of the autograd approach [i.e., this approach] is that a naive implementation stores all the intermediate results. \n",
    "    Thus the memory overhead scales linearly with the number of iterations which is problematic for large matrices.\"\n",
    "    \"\"\"\n",
    "    if len(A.data.shape) < 3: A = A.unsqueeze(0)\n",
    "    batchSize, dim1, dim2 = A.data.shape\n",
    "    assert dim1==dim2\n",
    "    dim, dtype, device = dim1, A.dtype, A.device\n",
    "    normA = A.mul(A).sum(dim=1).sum(dim=1).sqrt()\n",
    "    Y = A.div(normA.view(batchSize, 1, 1).expand_as(A));\n",
    "    I = Variable(torch.eye(dim,dim, device=device).view(1, dim, dim).\n",
    "                 repeat(batchSize,1,1).type(dtype),requires_grad=False)\n",
    "    Z = Variable(torch.eye(dim,dim, device=device).view(1, dim, dim).\n",
    "                 repeat(batchSize,1,1).type(dtype),requires_grad=False)\n",
    "\n",
    "    for i in range(numIters):\n",
    "        T = 0.5*(3.0*I - Z.bmm(Y))\n",
    "        Y = Y.bmm(T)\n",
    "        Z = T.bmm(Z)\n",
    "    \n",
    "    sA = Y*torch.sqrt(normA).view(batchSize, 1, 1).expand_as(A)\n",
    "    error = compute_error(A, sA)\n",
    "    return sA, error\n",
    "\n",
    "\n",
    "def sqrt_newton_schulz(A,               # matrix to be sqrt-ified\n",
    "                       numIters=7,      # numIters=7 found via experimentation\n",
    "                       calc_error=True, # setting False disables Maji's error reporting\n",
    "                      ):\n",
    "    \"\"\"\n",
    "    Sqrt of matrix via Newton-Schulz algorithm\n",
    "    Modified from https://github.com/msubhransu/matrix-sqrt/blob/cc2289a3ed7042b8dbacd53ce8a34da1f814ed2f/matrix_sqrt.py#LL72C1-L87C19\n",
    "    # Forward via Newton-Schulz iterations (non autograd version)\n",
    "    # Seems to be slighlty faster and has much lower memory overhead\n",
    "    \n",
    "    ... Original code didn't preserve device, had no batch dim checking -SHH\n",
    "    \"\"\"\n",
    "    while len(A.data.shape) < 3:  # needs a batch dimension\n",
    "        A = A.unsqueeze(0)\n",
    "    batchSize, dim1, dim2 = A.data.shape\n",
    "    assert dim1==dim2\n",
    "    dim, dtype, device = dim1, A.dtype, A.device\n",
    "    normA = A.mul(A).sum(dim=1).sum(dim=1).sqrt()\n",
    "    Y = A.div(normA.view(batchSize, 1, 1).expand_as(A));\n",
    "    I = torch.eye(dim,dim, device=device, dtype=dtype).view(1, dim, dim).repeat(batchSize,1,1)\n",
    "    Z = torch.eye(dim,dim, device=device, dtype=dtype).view(1, dim, dim).repeat(batchSize,1,1)\n",
    "    for i in range(numIters):\n",
    "        T = 0.5*(3.0*I - Z.bmm(Y))\n",
    "        Y = Y.bmm(T)\n",
    "        Z = T.bmm(Z)\n",
    "        \n",
    "    sA = Y*torch.sqrt(normA).view(batchSize, 1, 1).expand_as(A)\n",
    "    if calc_error: \n",
    "        error = compute_error(A, sA)\n",
    "        return sA, error\n",
    "    else:\n",
    "        return sA\n",
    "\n",
    "    \n",
    "\"\"\" \n",
    "# Only used if backprop needed, which it isn't for FAD.  Leaving it here anyway. -SHH\n",
    "def lyap_newton_schulz(z, dldz, numIters, dtype):\n",
    "    # Backward via iterative Lyapunov solver.\n",
    "    batchSize = z.shape[0]\n",
    "    dim = z.shape[1]\n",
    "    normz = z.mul(z).sum(dim=1).sum(dim=1).sqrt()\n",
    "    a = z.div(normz.view(batchSize, 1, 1).expand_as(z))\n",
    "    I = torch.eye(dim,dim).view(1, dim, dim).repeat(batchSize,1,1).type(dtype)\n",
    "    q = dldz.div(normz.view(batchSize, 1, 1).expand_as(z))\n",
    "    for i in range(numIters):\n",
    "        q = 0.5*(q.bmm(3.0*I - a.bmm(a)) - a.transpose(1, 2).bmm(a.transpose(1,2).bmm(q) - q.bmm(a)) )\n",
    "        a = 0.5*a.bmm(3.0*I - a.bmm(a))\n",
    "    dlda = 0.5*q\n",
    "    return dlda\n",
    "\"\"\"\n",
    "\n",
    "\n",
    "LICENCE_SM = \"\"\"\n",
    "MIT License\n",
    "\n",
    "Copyright (c) 2017 Subhransu Maji\n",
    "\n",
    "Permission is hereby granted, free of charge, to any person obtaining a copy\n",
    "of this software and associated documentation files (the \"Software\"), to deal\n",
    "in the Software without restriction, including without limitation the rights\n",
    "to use, copy, modify, merge, publish, distribute, sublicense, and/or sell\n",
    "copies of the Software, and to permit persons to whom the Software is\n",
    "furnished to do so, subject to the following conditions:\n",
    "\n",
    "The above copyright notice and this permission notice shall be included in all\n",
    "copies or substantial portions of the Software.\n",
    "\n",
    "THE SOFTWARE IS PROVIDED \"AS IS\", WITHOUT WARRANTY OF ANY KIND, EXPRESS OR\n",
    "IMPLIED, INCLUDING BUT NOT LIMITED TO THE WARRANTIES OF MERCHANTABILITY,\n",
    "FITNESS FOR A PARTICULAR PURPOSE AND NONINFRINGEMENT. IN NO EVENT SHALL THE\n",
    "AUTHORS OR COPYRIGHT HOLDERS BE LIABLE FOR ANY CLAIM, DAMAGES OR OTHER\n",
    "LIABILITY, WHETHER IN AN ACTION OF CONTRACT, TORT OR OTHERWISE, ARISING FROM,\n",
    "OUT OF OR IN CONNECTION WITH THE SOFTWARE OR THE USE OR OTHER DEALINGS IN THE\n",
    "SOFTWARE.\n",
    "\"\"\""
   ]
  },
  {
   "cell_type": "markdown",
   "metadata": {},
   "source": [
    "## Error tests"
   ]
  },
  {
   "cell_type": "code",
   "execution_count": null,
   "metadata": {},
   "outputs": [
    {
     "data": {
      "text/plain": [
       "(tensor([[[ 4.3880e+00,  3.0243e-01, -1.3667e-01,  5.1496e-01, -5.3276e-01,\n",
       "            2.7612e-01, -8.6987e-01, -5.1911e-01,  7.9897e-01,  4.4864e-01],\n",
       "          [ 3.0243e-01,  4.8187e+00,  3.3622e-01,  4.6489e-01,  5.7077e-01,\n",
       "           -4.6965e-01, -1.3664e-01,  3.3544e-01, -8.7198e-01,  5.2533e-02],\n",
       "          [-1.3667e-01,  3.3622e-01,  4.2170e+00, -1.3225e-01, -6.8163e-01,\n",
       "            3.2647e-01,  6.0499e-01,  9.8879e-01, -3.9827e-01, -5.8464e-02],\n",
       "          [ 5.1496e-01,  4.6489e-01, -1.3225e-01,  3.2379e+00,  6.9414e-01,\n",
       "           -4.4017e-01, -1.9383e-01,  3.7951e-01, -2.5238e-03, -3.5434e-01],\n",
       "          [-5.3276e-01,  5.7077e-01, -6.8163e-01,  6.9414e-01,  4.7020e+00,\n",
       "            1.7619e-01, -9.9634e-02,  2.9078e-02, -2.6255e-01, -3.7996e-01],\n",
       "          [ 2.7612e-01, -4.6965e-01,  3.2647e-01, -4.4017e-01,  1.7619e-01,\n",
       "            4.5748e+00, -7.2716e-01,  2.6549e-02, -4.6387e-01,  6.8529e-02],\n",
       "          [-8.6987e-01, -1.3664e-01,  6.0499e-01, -1.9383e-01, -9.9634e-02,\n",
       "           -7.2716e-01,  3.9740e+00, -7.8367e-01,  7.4012e-02, -5.5417e-01],\n",
       "          [-5.1911e-01,  3.3544e-01,  9.8879e-01,  3.7951e-01,  2.9078e-02,\n",
       "            2.6549e-02, -7.8367e-01,  4.0677e+00,  9.3131e-02,  3.6643e-01],\n",
       "          [ 7.9897e-01, -8.7198e-01, -3.9827e-01, -2.5238e-03, -2.6255e-01,\n",
       "           -4.6387e-01,  7.4012e-02,  9.3131e-02,  2.9190e+00, -4.4699e-01],\n",
       "          [ 4.4864e-01,  5.2533e-02, -5.8464e-02, -3.5434e-01, -3.7996e-01,\n",
       "            6.8529e-02, -5.5417e-01,  3.6643e-01, -4.4699e-01,  4.2622e+00]]],\n",
       "        dtype=torch.float64, grad_fn=<MulBackward0>),\n",
       " tensor(6.2563e-06, dtype=torch.float64, grad_fn=<MeanBackward0>))"
      ]
     },
     "execution_count": null,
     "metadata": {},
     "output_type": "execute_result"
    }
   ],
   "source": [
    "#| eval: false \n",
    "sa1, error = sqrt_newton_schulz_autograd( pd_mat.unsqueeze(0), numIters=7 ) \n",
    "sa1, error"
   ]
  },
  {
   "cell_type": "code",
   "execution_count": null,
   "metadata": {},
   "outputs": [
    {
     "data": {
      "text/plain": [
       "(tensor([[[ 4.3880e+00,  3.0243e-01, -1.3667e-01,  5.1496e-01, -5.3276e-01,\n",
       "            2.7612e-01, -8.6987e-01, -5.1911e-01,  7.9897e-01,  4.4864e-01],\n",
       "          [ 3.0243e-01,  4.8187e+00,  3.3622e-01,  4.6489e-01,  5.7077e-01,\n",
       "           -4.6965e-01, -1.3664e-01,  3.3544e-01, -8.7198e-01,  5.2533e-02],\n",
       "          [-1.3667e-01,  3.3622e-01,  4.2170e+00, -1.3225e-01, -6.8163e-01,\n",
       "            3.2647e-01,  6.0499e-01,  9.8879e-01, -3.9827e-01, -5.8464e-02],\n",
       "          [ 5.1496e-01,  4.6489e-01, -1.3225e-01,  3.2379e+00,  6.9414e-01,\n",
       "           -4.4017e-01, -1.9383e-01,  3.7951e-01, -2.5238e-03, -3.5434e-01],\n",
       "          [-5.3276e-01,  5.7077e-01, -6.8163e-01,  6.9414e-01,  4.7020e+00,\n",
       "            1.7619e-01, -9.9634e-02,  2.9078e-02, -2.6255e-01, -3.7996e-01],\n",
       "          [ 2.7612e-01, -4.6965e-01,  3.2647e-01, -4.4017e-01,  1.7619e-01,\n",
       "            4.5748e+00, -7.2716e-01,  2.6549e-02, -4.6387e-01,  6.8529e-02],\n",
       "          [-8.6987e-01, -1.3664e-01,  6.0499e-01, -1.9383e-01, -9.9634e-02,\n",
       "           -7.2716e-01,  3.9740e+00, -7.8367e-01,  7.4012e-02, -5.5417e-01],\n",
       "          [-5.1911e-01,  3.3544e-01,  9.8879e-01,  3.7951e-01,  2.9078e-02,\n",
       "            2.6549e-02, -7.8367e-01,  4.0677e+00,  9.3131e-02,  3.6643e-01],\n",
       "          [ 7.9897e-01, -8.7198e-01, -3.9827e-01, -2.5238e-03, -2.6255e-01,\n",
       "           -4.6387e-01,  7.4012e-02,  9.3131e-02,  2.9190e+00, -4.4699e-01],\n",
       "          [ 4.4864e-01,  5.2533e-02, -5.8464e-02, -3.5434e-01, -3.7996e-01,\n",
       "            6.8529e-02, -5.5417e-01,  3.6643e-01, -4.4699e-01,  4.2622e+00]]],\n",
       "        dtype=torch.float64, grad_fn=<MulBackward0>),\n",
       " tensor(6.2563e-06, dtype=torch.float64, grad_fn=<MeanBackward0>))"
      ]
     },
     "execution_count": null,
     "metadata": {},
     "output_type": "execute_result"
    }
   ],
   "source": [
    "#| eval: false \n",
    "sa2, error = sqrt_newton_schulz( pd_mat.unsqueeze(0), numIters=7 ) \n",
    "sa2, error"
   ]
  },
  {
   "cell_type": "code",
   "execution_count": null,
   "metadata": {},
   "outputs": [
    {
     "data": {
      "text/plain": [
       "tensor([[[-2.6899e-05,  1.2056e-05,  1.4747e-05,  1.5928e-05, -3.1680e-06,\n",
       "           7.2472e-06, -1.5690e-05, -2.3918e-05,  3.7398e-05,  1.2399e-05],\n",
       "         [ 1.2056e-05, -5.4067e-06, -6.6034e-06, -7.1417e-06,  1.4228e-06,\n",
       "          -3.2535e-06,  7.0253e-06,  1.0715e-05, -1.6765e-05, -5.5589e-06],\n",
       "         [ 1.4747e-05, -6.6034e-06, -8.1006e-06, -8.7264e-06,  1.7300e-06,\n",
       "          -3.9610e-06,  8.6202e-06,  1.3126e-05, -2.0497e-05, -6.7947e-06],\n",
       "         [ 1.5928e-05, -7.1417e-06, -8.7264e-06, -9.4347e-06,  1.8788e-06,\n",
       "          -4.2963e-06,  9.2842e-06,  1.4159e-05, -2.2148e-05, -7.3436e-06],\n",
       "         [-3.1680e-06,  1.4228e-06,  1.7300e-06,  1.8788e-06, -3.7621e-07,\n",
       "           8.5897e-07, -1.8400e-06, -2.8116e-06,  4.4074e-06,  1.4618e-06],\n",
       "         [ 7.2472e-06, -3.2535e-06, -3.9610e-06, -4.2963e-06,  8.5897e-07,\n",
       "          -1.9623e-06,  4.2133e-06,  6.4345e-06, -1.0081e-05, -3.3432e-06],\n",
       "         [-1.5690e-05,  7.0253e-06,  8.6202e-06,  9.2842e-06, -1.8400e-06,\n",
       "           4.2133e-06, -9.1733e-06, -1.3966e-05,  2.1808e-05,  7.2290e-06],\n",
       "         [-2.3918e-05,  1.0715e-05,  1.3126e-05,  1.4159e-05, -2.8116e-06,\n",
       "           6.4345e-06, -1.3966e-05, -2.1278e-05,  3.3250e-05,  1.1023e-05],\n",
       "         [ 3.7398e-05, -1.6765e-05, -2.0497e-05, -2.2148e-05,  4.4074e-06,\n",
       "          -1.0081e-05,  2.1808e-05,  3.3250e-05, -5.1999e-05, -1.7241e-05],\n",
       "         [ 1.2399e-05, -5.5589e-06, -6.7947e-06, -7.3436e-06,  1.4618e-06,\n",
       "          -3.3432e-06,  7.2290e-06,  1.1023e-05, -1.7241e-05, -5.7163e-06]]],\n",
       "       dtype=torch.float64, grad_fn=<SubBackward0>)"
      ]
     },
     "execution_count": null,
     "metadata": {},
     "output_type": "execute_result"
    }
   ],
   "source": [
    "#| eval: false \n",
    "if use_li:\n",
    "    sa1 - sq"
   ]
  },
  {
   "cell_type": "code",
   "execution_count": null,
   "metadata": {},
   "outputs": [
    {
     "data": {
      "text/plain": [
       "tensor([[[-2.6899e-05,  1.2056e-05,  1.4747e-05,  1.5928e-05, -3.1680e-06,\n",
       "           7.2472e-06, -1.5690e-05, -2.3918e-05,  3.7398e-05,  1.2399e-05],\n",
       "         [ 1.2056e-05, -5.4067e-06, -6.6034e-06, -7.1417e-06,  1.4228e-06,\n",
       "          -3.2535e-06,  7.0253e-06,  1.0715e-05, -1.6765e-05, -5.5589e-06],\n",
       "         [ 1.4747e-05, -6.6034e-06, -8.1006e-06, -8.7264e-06,  1.7300e-06,\n",
       "          -3.9610e-06,  8.6202e-06,  1.3126e-05, -2.0497e-05, -6.7947e-06],\n",
       "         [ 1.5928e-05, -7.1417e-06, -8.7264e-06, -9.4347e-06,  1.8788e-06,\n",
       "          -4.2963e-06,  9.2842e-06,  1.4159e-05, -2.2148e-05, -7.3436e-06],\n",
       "         [-3.1680e-06,  1.4228e-06,  1.7300e-06,  1.8788e-06, -3.7621e-07,\n",
       "           8.5897e-07, -1.8400e-06, -2.8116e-06,  4.4074e-06,  1.4618e-06],\n",
       "         [ 7.2472e-06, -3.2535e-06, -3.9610e-06, -4.2963e-06,  8.5897e-07,\n",
       "          -1.9623e-06,  4.2133e-06,  6.4345e-06, -1.0081e-05, -3.3432e-06],\n",
       "         [-1.5690e-05,  7.0253e-06,  8.6202e-06,  9.2842e-06, -1.8400e-06,\n",
       "           4.2133e-06, -9.1733e-06, -1.3966e-05,  2.1808e-05,  7.2290e-06],\n",
       "         [-2.3918e-05,  1.0715e-05,  1.3126e-05,  1.4159e-05, -2.8116e-06,\n",
       "           6.4345e-06, -1.3966e-05, -2.1278e-05,  3.3250e-05,  1.1023e-05],\n",
       "         [ 3.7398e-05, -1.6765e-05, -2.0497e-05, -2.2148e-05,  4.4074e-06,\n",
       "          -1.0081e-05,  2.1808e-05,  3.3250e-05, -5.1999e-05, -1.7241e-05],\n",
       "         [ 1.2399e-05, -5.5589e-06, -6.7947e-06, -7.3436e-06,  1.4618e-06,\n",
       "          -3.3432e-06,  7.2290e-06,  1.1023e-05, -1.7241e-05, -5.7163e-06]]],\n",
       "       dtype=torch.float64, grad_fn=<SubBackward0>)"
      ]
     },
     "execution_count": null,
     "metadata": {},
     "output_type": "execute_result"
    }
   ],
   "source": [
    "#| eval: false \n",
    "if use_li:\n",
    "    sa2 - sq"
   ]
  },
  {
   "cell_type": "markdown",
   "metadata": {},
   "source": [
    "## Speed & device tests"
   ]
  },
  {
   "cell_type": "code",
   "execution_count": null,
   "metadata": {},
   "outputs": [],
   "source": [
    "#| eval: false \n",
    "from aeiou.core import get_device"
   ]
  },
  {
   "cell_type": "code",
   "execution_count": null,
   "metadata": {},
   "outputs": [
    {
     "name": "stdout",
     "output_type": "stream",
     "text": [
      "device =  cuda\n"
     ]
    }
   ],
   "source": [
    "#| eval: false \n",
    "device = get_device()\n",
    "print('device = ',device)\n",
    "n,m = 1000, 1000\n",
    "with torch.no_grad(): \n",
    "    k = torch.randn(n, m, device=device)\n",
    "    pd_mat2 = (k.t().matmul(k)) # Create a positive definite matrix, no grad"
   ]
  },
  {
   "cell_type": "code",
   "execution_count": null,
   "metadata": {},
   "outputs": [],
   "source": [
    "#| eval: false \n",
    "#%%timeit\n",
    "if use_li:\n",
    "    sq2 = sqrtm_li(pd_mat2)"
   ]
  },
  {
   "cell_type": "markdown",
   "metadata": {},
   "source": [
    "Result of `%%timeit`:\n",
    "\n",
    "`1.7 s ± 395 ms per loop (mean ± std. dev. of 7 runs, 1 loop each)`"
   ]
  },
  {
   "cell_type": "code",
   "execution_count": null,
   "metadata": {},
   "outputs": [
    {
     "name": "stdout",
     "output_type": "stream",
     "text": [
      "3.37 ms ± 8.44 µs per loop (mean ± std. dev. of 7 runs, 100 loops each)\n"
     ]
    }
   ],
   "source": [
    "#| eval: false \n",
    "#%%timeit\n",
    "sq3 = sqrt_newton_schulz(pd_mat2.unsqueeze(0))"
   ]
  },
  {
   "cell_type": "markdown",
   "metadata": {},
   "source": [
    "Result of `%%timeit`:\n",
    "\n",
    "`13 ms ± 15.3 µs per loop (mean ± std. dev. of 7 runs, 100 loops each)`"
   ]
  },
  {
   "cell_type": "markdown",
   "metadata": {},
   "source": [
    "## Thus, we'll put a wrapper around our method of choice:"
   ]
  },
  {
   "cell_type": "code",
   "execution_count": null,
   "metadata": {},
   "outputs": [],
   "source": [
    "#|export \n",
    "def sqrtm(A, numIters=7):\n",
    "    \"wrapper function for matrix sqrt algorithm of choice: sqrt_newton_schulz\"\n",
    "    return sqrt_newton_schulz(A, numIters=numIters, calc_error=False)"
   ]
  },
  {
   "cell_type": "code",
   "execution_count": null,
   "metadata": {},
   "outputs": [],
   "source": [
    "#| eval: false  \n",
    "sqrtm(pd_mat2) "
   ]
  },
  {
   "cell_type": "code",
   "execution_count": null,
   "metadata": {},
   "outputs": [],
   "source": [
    "#| hide\n",
    "import nbdev; nbdev.nbdev_export()"
   ]
  }
 ],
 "metadata": {
  "kernelspec": {
   "display_name": "aa",
   "language": "python",
   "name": "aa"
  }
 },
 "nbformat": 4,
 "nbformat_minor": 4
}
